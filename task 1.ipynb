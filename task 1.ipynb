{
 "cells": [
  {
   "cell_type": "code",
   "execution_count": 130,
   "id": "fe842bc1",
   "metadata": {},
   "outputs": [
    {
     "data": {
      "text/plain": [
       "'h   r tnrrmglsnimeNGyosi dtfco'"
      ]
     },
     "execution_count": 130,
     "metadata": {},
     "output_type": "execute_result"
    }
   ],
   "source": [
    "# 1. Try to extract data from index 1 to 300 with jump of 3\n",
    "s[1:300:3]"
   ]
  },
  {
   "cell_type": "code",
   "execution_count": 131,
   "id": "d1163100",
   "metadata": {},
   "outputs": [
    {
     "data": {
      "text/plain": [
       "'noitcnuf sti dna gnirts nohtyp GNINrael ma i dna ssalc gnimmargorp nohtyP tsriF yM si siht'"
      ]
     },
     "execution_count": 131,
     "metadata": {},
     "output_type": "execute_result"
    }
   ],
   "source": [
    "# 2. try to reverse a string without using function\n",
    "s[::-1]"
   ]
  },
  {
   "cell_type": "code",
   "execution_count": 132,
   "id": "b8c33d3d",
   "metadata": {},
   "outputs": [
    {
     "data": {
      "text/plain": [
       "['THIS',\n",
       " 'IS',\n",
       " 'MY',\n",
       " 'FIRST',\n",
       " 'PYTHON',\n",
       " 'PROGRAMMING',\n",
       " 'CLASS',\n",
       " 'AND',\n",
       " 'I',\n",
       " 'AM',\n",
       " 'LEARNING',\n",
       " 'PYTHON',\n",
       " 'STRING',\n",
       " 'AND',\n",
       " 'ITS',\n",
       " 'FUNCTION']"
      ]
     },
     "execution_count": 132,
     "metadata": {},
     "output_type": "execute_result"
    }
   ],
   "source": [
    "# 3. try to split string after conversion of entire string in uppercase\n",
    "s.upper().split()"
   ]
  },
  {
   "cell_type": "code",
   "execution_count": 133,
   "id": "6701dbf6",
   "metadata": {},
   "outputs": [
    {
     "data": {
      "text/plain": [
       "'this is my first python programming class and i am learning python string and its function'"
      ]
     },
     "execution_count": 133,
     "metadata": {},
     "output_type": "execute_result"
    }
   ],
   "source": [
    "# 4. try to convert string into lower case\n",
    "s.lower()"
   ]
  },
  {
   "cell_type": "code",
   "execution_count": 134,
   "id": "4187c92c",
   "metadata": {},
   "outputs": [
    {
     "data": {
      "text/plain": [
       "'This is my first python programming class and i am learning python string and its function'"
      ]
     },
     "execution_count": 134,
     "metadata": {},
     "output_type": "execute_result"
    }
   ],
   "source": [
    "# 5. try capitalize whole string\n",
    "s.capitalize()"
   ]
  },
  {
   "cell_type": "code",
   "execution_count": 135,
   "id": "5b731bd2",
   "metadata": {},
   "outputs": [],
   "source": [
    "# 6. write difference between isalnum and isalpha\n",
    "b2 = 'sfhdiv456'\n",
    "b3 = 'shiv'\n",
    "\n",
    "# Ans: isalnum checks whether a string is alpha numeric or not\n",
    "#     isalpha checks whether a string is alphabetic or not"
   ]
  },
  {
   "cell_type": "code",
   "execution_count": 136,
   "id": "5a2ab0af",
   "metadata": {},
   "outputs": [
    {
     "data": {
      "text/plain": [
       "True"
      ]
     },
     "execution_count": 136,
     "metadata": {},
     "output_type": "execute_result"
    }
   ],
   "source": [
    "b2.isalnum()"
   ]
  },
  {
   "cell_type": "code",
   "execution_count": 137,
   "id": "b13adda7",
   "metadata": {},
   "outputs": [
    {
     "data": {
      "text/plain": [
       "True"
      ]
     },
     "execution_count": 137,
     "metadata": {},
     "output_type": "execute_result"
    }
   ],
   "source": [
    "b3.isalnum()"
   ]
  },
  {
   "cell_type": "code",
   "execution_count": 138,
   "id": "62d205d3",
   "metadata": {},
   "outputs": [
    {
     "data": {
      "text/plain": [
       "False"
      ]
     },
     "execution_count": 138,
     "metadata": {},
     "output_type": "execute_result"
    }
   ],
   "source": [
    "b2.isalpha()"
   ]
  },
  {
   "cell_type": "code",
   "execution_count": 139,
   "id": "cea90c9e",
   "metadata": {},
   "outputs": [
    {
     "data": {
      "text/plain": [
       "True"
      ]
     },
     "execution_count": 139,
     "metadata": {},
     "output_type": "execute_result"
    }
   ],
   "source": [
    "b3.isalpha()"
   ]
  },
  {
   "cell_type": "code",
   "execution_count": 1,
   "id": "e2f822b6",
   "metadata": {},
   "outputs": [
    {
     "data": {
      "text/plain": [
       "'Hey     Hello'"
      ]
     },
     "execution_count": 1,
     "metadata": {},
     "output_type": "execute_result"
    }
   ],
   "source": [
    "# 7. try to give example of expand tabs\n",
    "b3 = 'Hey\\tHello'\n",
    "b3.expandtabs()"
   ]
  },
  {
   "cell_type": "code",
   "execution_count": 142,
   "id": "3702da0c",
   "metadata": {},
   "outputs": [],
   "source": [
    "# 8. give an example of strip, lstrip & rstrip\n",
    "b4 = '   hey    hello    '"
   ]
  },
  {
   "cell_type": "code",
   "execution_count": 143,
   "id": "b1ac0c53",
   "metadata": {},
   "outputs": [
    {
     "data": {
      "text/plain": [
       "'hey    hello'"
      ]
     },
     "execution_count": 143,
     "metadata": {},
     "output_type": "execute_result"
    }
   ],
   "source": [
    "# strip removes all leading & trailing whitespaces\n",
    "b4.strip()"
   ]
  },
  {
   "cell_type": "code",
   "execution_count": 144,
   "id": "58f90a36",
   "metadata": {},
   "outputs": [
    {
     "data": {
      "text/plain": [
       "'hey    hello    '"
      ]
     },
     "execution_count": 144,
     "metadata": {},
     "output_type": "execute_result"
    }
   ],
   "source": [
    "# lstrip removes all leading whitespaces\n",
    "b4.lstrip()"
   ]
  },
  {
   "cell_type": "code",
   "execution_count": 145,
   "id": "ef1be261",
   "metadata": {},
   "outputs": [
    {
     "data": {
      "text/plain": [
       "'   hey    hello'"
      ]
     },
     "execution_count": 145,
     "metadata": {},
     "output_type": "execute_result"
    }
   ],
   "source": [
    "# rstrip removes all trailing whitespaces\n",
    "b4.rstrip()"
   ]
  },
  {
   "cell_type": "code",
   "execution_count": 147,
   "id": "aac9f5c8",
   "metadata": {},
   "outputs": [
    {
     "data": {
      "text/plain": [
       "'I am learnIng python from INeuron'"
      ]
     },
     "execution_count": 147,
     "metadata": {},
     "output_type": "execute_result"
    }
   ],
   "source": [
    "# 9. replace a string character by another character by taking your own example\n",
    "b5 = 'i am learning python from iNeuron'\n",
    "b5.replace('i','I')"
   ]
  },
  {
   "cell_type": "code",
   "execution_count": 148,
   "id": "f44981b4",
   "metadata": {},
   "outputs": [
    {
     "data": {
      "text/plain": [
       "'@@@@@@@hello@@@@@@@@'"
      ]
     },
     "execution_count": 148,
     "metadata": {},
     "output_type": "execute_result"
    }
   ],
   "source": [
    "# 10. try to give definition of string center function with an example\n",
    "b6 = 'hello'\n",
    "b6.center(20,'@')\n",
    "# it create a lenght of string equal to number specified & keeps a string at center\n",
    "# it fills empty spcaes by string given after comma"
   ]
  },
  {
   "cell_type": "code",
   "execution_count": 1,
   "id": "af3e2325",
   "metadata": {},
   "outputs": [],
   "source": [
    "# 11. write your own definition of compiler and interpreter without copy paste from internet in own language"
   ]
  },
  {
   "cell_type": "code",
   "execution_count": 150,
   "id": "5dacc4fd",
   "metadata": {},
   "outputs": [],
   "source": [
    "# 12. python is a compiled language, give clear answer with your understanding"
   ]
  },
  {
   "cell_type": "markdown",
   "id": "6d74ccf2",
   "metadata": {},
   "source": [
    "- Python is both compiled and interpreted language at a time\n",
    "- python works in 2 layers, first .py file is compiled to an intermediate code of .pyc then the .pyc file is directly interpreted\n",
    "\n",
    "- source code --> compiler --> byte code --> interpreter --> machine code\n",
    "                                            (virtual machine(PVM))\n",
    "- html is interpreted language\n",
    "- "
   ]
  },
  {
   "cell_type": "code",
   "execution_count": 151,
   "id": "816d3e18",
   "metadata": {},
   "outputs": [],
   "source": [
    "# 13. try to write a usecase of python with your understanding(uses of python)"
   ]
  },
  {
   "cell_type": "raw",
   "id": "f9fa7124",
   "metadata": {},
   "source": [
    "- develop websites, app development, task automation, data analysis, data visualization, data science (nlp, dl, ml), web scrapping, game devlopment, internet of things, enterprize apps,\n",
    "- data bases,\n",
    "- scientific/numeric programming,\n",
    "- cad application, robotics, image processing\n",
    "- dask --> data analysis"
   ]
  },
  {
   "cell_type": "code",
   "execution_count": null,
   "id": "098cc0c1",
   "metadata": {},
   "outputs": [],
   "source": []
  }
 ],
 "metadata": {
  "kernelspec": {
   "display_name": "Python 3 (ipykernel)",
   "language": "python",
   "name": "python3"
  },
  "language_info": {
   "codemirror_mode": {
    "name": "ipython",
    "version": 3
   },
   "file_extension": ".py",
   "mimetype": "text/x-python",
   "name": "python",
   "nbconvert_exporter": "python",
   "pygments_lexer": "ipython3",
   "version": "3.9.7"
  }
 },
 "nbformat": 4,
 "nbformat_minor": 5
}
