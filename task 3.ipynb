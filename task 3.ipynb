{
 "cells": [
  {
   "cell_type": "raw",
   "id": "4433716c",
   "metadata": {},
   "source": [
    "q1 : print\n",
    "ineuron\n",
    "ineuron ineuron\n",
    "ineuron ineuron ineuron\n",
    "ineuron ineuron ineuron ineuron"
   ]
  },
  {
   "cell_type": "code",
   "execution_count": 11,
   "id": "dac71372",
   "metadata": {},
   "outputs": [
    {
     "name": "stdout",
     "output_type": "stream",
     "text": [
      "ineuron \n",
      "\n",
      "ineuron ineuron \n",
      "\n",
      "ineuron ineuron ineuron \n",
      "\n",
      "ineuron ineuron ineuron ineuron \n",
      "\n"
     ]
    }
   ],
   "source": [
    "n = 4\n",
    "for i in range(n):\n",
    "    for j in range(0,i+1):\n",
    "        print(\"ineuron\",end=' ')\n",
    "    print(\"\\n\")"
   ]
  },
  {
   "cell_type": "code",
   "execution_count": 12,
   "id": "26393e4c",
   "metadata": {},
   "outputs": [
    {
     "name": "stdout",
     "output_type": "stream",
     "text": [
      "ineuron \n",
      "ineuron ineuron \n",
      "ineuron ineuron ineuron \n",
      "ineuron ineuron ineuron ineuron \n"
     ]
    }
   ],
   "source": [
    "n = 4\n",
    "for i in range(n):\n",
    "    print(\"ineuron \"*(i+1))"
   ]
  },
  {
   "cell_type": "raw",
   "id": "137a82f8",
   "metadata": {},
   "source": [
    "q2 print\n",
    "        ineuron\n",
    "    ineuron ineuron\n",
    "ineuron ineuron ineuron\n",
    "    ineuron ineuron\n",
    "        ineuron"
   ]
  },
  {
   "cell_type": "code",
   "execution_count": 13,
   "id": "72fd8ced",
   "metadata": {},
   "outputs": [
    {
     "name": "stdout",
     "output_type": "stream",
     "text": [
      "         ineuron         \n",
      "     ineuron ineuron     \n",
      " ineuron ineuron ineuron \n",
      "     ineuron ineuron     \n",
      "         ineuron         \n"
     ]
    }
   ],
   "source": [
    "for i in range(1,6):\n",
    "    if i <=3:\n",
    "        n = i\n",
    "    else:\n",
    "        n = 6 - i\n",
    "    print((\"ineuron \"*n).center(25,' '))"
   ]
  },
  {
   "cell_type": "code",
   "execution_count": 14,
   "id": "227c0c16",
   "metadata": {},
   "outputs": [
    {
     "name": "stdout",
     "output_type": "stream",
     "text": [
      "         ineuron \n",
      "\n",
      "      ineuron ineuron \n",
      "\n",
      "   ineuron ineuron ineuron \n",
      "\n",
      "      ineuron ineuron \n",
      "\n",
      "         ineuron \n",
      "\n"
     ]
    }
   ],
   "source": [
    "n = 3\n",
    "for i in range(n - 1):\n",
    "    for j in range(i,n):\n",
    "        print(\"  \", end=' ')\n",
    "    for j in range(i+1):\n",
    "        print(\"ineuron\", end=' ')\n",
    "    print('\\n')\n",
    "for i in range(n):\n",
    "    for j in range(0,i+1):\n",
    "        print(\"  \", end=' ')\n",
    "    for j in range(i,n):\n",
    "        print(\"ineuron\", end=' ')\n",
    "    print('\\n')"
   ]
  },
  {
   "cell_type": "code",
   "execution_count": 15,
   "id": "67a7c574",
   "metadata": {},
   "outputs": [],
   "source": [
    "l = [[1,2,3,4], (2,3,4,5,6), (3,4,5,6,7), \n",
    "          set([23,4,5,45,4,4,5,45,45,4,5]), \n",
    "          {'k1':\"sudh\",'k2':\"ineuron\",'k3':\"kumar\", 3:6, 7:8}, [\"ineuron\",\"data science\"]]"
   ]
  },
  {
   "cell_type": "raw",
   "id": "86739260",
   "metadata": {},
   "source": [
    "q3 : try to extract all the list entity"
   ]
  },
  {
   "cell_type": "code",
   "execution_count": 16,
   "id": "9c36f356",
   "metadata": {},
   "outputs": [
    {
     "name": "stdout",
     "output_type": "stream",
     "text": [
      "[1, 2, 3, 4]\n",
      "['ineuron', 'data science']\n"
     ]
    }
   ],
   "source": [
    "for i in l:\n",
    "    if type(i) == list:\n",
    "        print(i)"
   ]
  },
  {
   "cell_type": "raw",
   "id": "aff9b751",
   "metadata": {},
   "source": [
    "q4: try to extract all the dictionary entities"
   ]
  },
  {
   "cell_type": "code",
   "execution_count": 17,
   "id": "cccacb96",
   "metadata": {},
   "outputs": [
    {
     "name": "stdout",
     "output_type": "stream",
     "text": [
      "{'k1': 'sudh', 'k2': 'ineuron', 'k3': 'kumar', 3: 6, 7: 8}\n"
     ]
    }
   ],
   "source": [
    "for i in l:\n",
    "    if type(i) == dict:\n",
    "        print(i)"
   ]
  },
  {
   "cell_type": "raw",
   "id": "2ea78d8a",
   "metadata": {},
   "source": [
    "q5: try to extract all the tuples entities"
   ]
  },
  {
   "cell_type": "code",
   "execution_count": 18,
   "id": "4fc96a56",
   "metadata": {},
   "outputs": [
    {
     "name": "stdout",
     "output_type": "stream",
     "text": [
      "(2, 3, 4, 5, 6)\n",
      "(3, 4, 5, 6, 7)\n"
     ]
    }
   ],
   "source": [
    "for i in l:\n",
    "    if type(i) == tuple:\n",
    "        print(i)"
   ]
  },
  {
   "cell_type": "raw",
   "id": "abfdf929",
   "metadata": {},
   "source": [
    "q6: try to extract all the numerical data it may be a  part of dictionary key/value"
   ]
  },
  {
   "cell_type": "code",
   "execution_count": 19,
   "id": "10d404dd",
   "metadata": {},
   "outputs": [
    {
     "data": {
      "text/plain": [
       "[[1, 2, 3, 4],\n",
       " (2, 3, 4, 5, 6),\n",
       " (3, 4, 5, 6, 7),\n",
       " {4, 5, 23, 45},\n",
       " {'k1': 'sudh', 'k2': 'ineuron', 'k3': 'kumar', 3: 6, 7: 8},\n",
       " ['ineuron', 'data science']]"
      ]
     },
     "execution_count": 19,
     "metadata": {},
     "output_type": "execute_result"
    }
   ],
   "source": [
    "l"
   ]
  },
  {
   "cell_type": "code",
   "execution_count": 23,
   "id": "b348e0eb",
   "metadata": {},
   "outputs": [
    {
     "name": "stdout",
     "output_type": "stream",
     "text": [
      "[1, 2, 3, 4, 2, 3, 4, 5, 6, 3, 4, 5, 6, 7, 5, 4, 45, 23, 3, 6, 7, 8]\n"
     ]
    }
   ],
   "source": [
    "# smart code\n",
    "l = [[1, 2, 3, 4],\n",
    " (2, 3, 4, 5, 6),\n",
    " (3, 4, 5, 6, 7),\n",
    " {4, 5, 23, 45},\n",
    " {'k1': 'sudh', 'k2': 'ineuron', 'k3': 'kumar', 3: 6, 7: 8},\n",
    " ['ineuron', 'data science']]\n",
    "l1 = []\n",
    "for i in l :\n",
    "    if type(i) == list or type(i) == tuple or type(i) == set:\n",
    "        for j in i:\n",
    "            if type(j) == int:\n",
    "                l1.append(j)\n",
    "    if type(i) == dict:\n",
    "        for k in i.items():\n",
    "            for g in k:\n",
    "                if type(g) == int:\n",
    "                    l1.append(g)\n",
    "print(l1)"
   ]
  },
  {
   "cell_type": "code",
   "execution_count": 109,
   "id": "0a80d2c8",
   "metadata": {},
   "outputs": [
    {
     "name": "stdout",
     "output_type": "stream",
     "text": [
      "1 2 3 4 2 3 4 5 6 3 4 5 6 7 45 4 5 23 3\n",
      "6\n",
      "7\n",
      "8\n"
     ]
    }
   ],
   "source": [
    "# My code\n",
    "for i in l:\n",
    "    if type(i) == list or type(i) == tuple or type(i) == set:\n",
    "        for j in i:\n",
    "            if type(j) == int:\n",
    "                print(j, end=' ')\n",
    "    if type(i) == dict:\n",
    "        for k,v in i.items():\n",
    "            if type(k) == int or type(v) == int:\n",
    "                print(k)\n",
    "                print(v)"
   ]
  },
  {
   "cell_type": "raw",
   "id": "542e2159",
   "metadata": {},
   "source": [
    "q7: try to give summation of all the numeric data"
   ]
  },
  {
   "cell_type": "code",
   "execution_count": 24,
   "id": "49782e91",
   "metadata": {},
   "outputs": [
    {
     "name": "stdout",
     "output_type": "stream",
     "text": [
      "156\n"
     ]
    }
   ],
   "source": [
    "# smart code\n",
    "l = [[1, 2, 3, 4],\n",
    " (2, 3, 4, 5, 6),\n",
    " (3, 4, 5, 6, 7),\n",
    " {4, 5, 23, 45},\n",
    " {'k1': 'sudh', 'k2': 'ineuron', 'k3': 'kumar', 3: 6, 7: 8},\n",
    " ['ineuron', 'data science']]\n",
    "l1 = []\n",
    "for i in l :\n",
    "    if type(i) == list or type(i) == tuple or type(i) == set:\n",
    "        for j in i:\n",
    "            if type(j) == int:\n",
    "                l1.append(j)\n",
    "    if type(i) == dict:\n",
    "        for k in i.items():\n",
    "            for g in k:\n",
    "                if type(g) == int:\n",
    "                    l1.append(g)\n",
    "print(sum(l1))\n"
   ]
  },
  {
   "cell_type": "code",
   "execution_count": 110,
   "id": "10d77f0b",
   "metadata": {},
   "outputs": [
    {
     "name": "stdout",
     "output_type": "stream",
     "text": [
      "All list of the numbers in list: \n",
      " [1, 2, 3, 4, 2, 3, 4, 5, 6, 3, 4, 5, 6, 7, 45, 4, 5, 23, 3, 6, 7, 8]\n",
      "summation of all the numbers:  156\n"
     ]
    }
   ],
   "source": [
    "# my code\n",
    "num = []\n",
    "for i in l:\n",
    "    if type(i) == list or type(i) == tuple or type(i) == set:\n",
    "        for j in i:\n",
    "            if type(j) == int:\n",
    "                num.append(j)\n",
    "    if type(i) == dict:\n",
    "        for k,v in i.items():\n",
    "            if type(k) == int or type(v) == int:\n",
    "                num.append(k)\n",
    "                num.append(v)\n",
    "print(\"All list of the numbers in list: \\n\", num)\n",
    "print(\"summation of all the numbers: \",sum(num))"
   ]
  },
  {
   "cell_type": "raw",
   "id": "8b1f7fff",
   "metadata": {},
   "source": [
    "q8: try to filter out all the odd values out of all numeric data given which is part of list"
   ]
  },
  {
   "cell_type": "code",
   "execution_count": 26,
   "id": "33daa387",
   "metadata": {},
   "outputs": [
    {
     "name": "stdout",
     "output_type": "stream",
     "text": [
      "1 3 3 5 3 5 7 5 45 23 3 7 "
     ]
    }
   ],
   "source": [
    "for i in l1:\n",
    "    if i % 2 == 0:\n",
    "        pass\n",
    "    else:\n",
    "        print(i,end=' ')"
   ]
  },
  {
   "cell_type": "code",
   "execution_count": 111,
   "id": "b348bf22",
   "metadata": {
    "scrolled": true
   },
   "outputs": [
    {
     "name": "stdout",
     "output_type": "stream",
     "text": [
      "Odd values from list:  [1, 3]\n"
     ]
    }
   ],
   "source": [
    "odd = []\n",
    "for i in l:\n",
    "    if type(i) == list:\n",
    "        for j in i:\n",
    "            if type(j) == int:\n",
    "                if j %2 == 1:\n",
    "                    odd.append(j)\n",
    "print(\"Odd values from list: \", odd)"
   ]
  },
  {
   "cell_type": "raw",
   "id": "85a1e9a0",
   "metadata": {},
   "source": [
    "q9: try to extract \"ineuron\" out of data"
   ]
  },
  {
   "cell_type": "code",
   "execution_count": 28,
   "id": "005ee677",
   "metadata": {},
   "outputs": [
    {
     "name": "stdout",
     "output_type": "stream",
     "text": [
      "['ineuron', 'ineuron']\n"
     ]
    }
   ],
   "source": [
    "# smart code\n",
    "l = [[1, 2, 3, 4],\n",
    " (2, 3, 4, 5, 6),\n",
    " (3, 4, 5, 6, 7),\n",
    " {4, 5, 23, 45},\n",
    " {'k1': 'sudh', 'k2': 'ineuron', 'k3': 'kumar', 3: 6, 7: 8},\n",
    " ['ineuron', 'data science']]\n",
    "\n",
    "l1 = []\n",
    "\n",
    "for i in l :\n",
    "    if type(i) == list or type(i) == tuple or type(i) == set:\n",
    "        for j in i:\n",
    "            if j == 'ineuron':\n",
    "                l1.append(j)\n",
    "    if type(i) == dict:\n",
    "        for k in i.items():\n",
    "            for g in k:\n",
    "                if g == 'ineuron':\n",
    "                    l1.append(g)\n",
    "print(l1)"
   ]
  },
  {
   "cell_type": "code",
   "execution_count": 112,
   "id": "134e928a",
   "metadata": {},
   "outputs": [
    {
     "name": "stdout",
     "output_type": "stream",
     "text": [
      "{'k1': 'sudh', 'k2': 'ineuron', 'k3': 'kumar', 3: 6, 7: 8} : ineuron\n",
      "['ineuron', 'data science'] : ineuron\n"
     ]
    }
   ],
   "source": [
    "# my code\n",
    "for i in l:\n",
    "    if type(i) == list or type(i) == tuple or type(i) == set:\n",
    "        for j in i:\n",
    "            if j == 'ineuron':\n",
    "                print(i, \":\" ,j)\n",
    "    if type(i) == dict:\n",
    "        for k,v in i.items():\n",
    "            if k == 'ineuron':\n",
    "                print(i, \":\" , k)\n",
    "            elif v == 'ineuron':\n",
    "                print(i, \":\" ,v)"
   ]
  },
  {
   "cell_type": "raw",
   "id": "c12d8938",
   "metadata": {},
   "source": [
    "q10: try to find out number of occurences of all the data"
   ]
  },
  {
   "cell_type": "code",
   "execution_count": 32,
   "id": "8f231e3c",
   "metadata": {
    "scrolled": true
   },
   "outputs": [
    {
     "name": "stdout",
     "output_type": "stream",
     "text": [
      "[1, 2, 3, 4, 2, 3, 4, 5, 6, 3, 4, 5, 6, 7, 5, 4, 45, 23, 'k1', 'sudh', 'k2', 'ineuron', 'k3', 'kumar', 3, 6, 7, 8, 'ineuron', 'data science']\n",
      "1 : 1\n",
      "2 : 2\n",
      "3 : 4\n",
      "4 : 4\n",
      "5 : 3\n",
      "6 : 3\n",
      "7 : 2\n",
      "k1 : 1\n",
      "sudh : 1\n",
      "ineuron : 2\n",
      "k3 : 1\n",
      "kumar : 1\n",
      "45 : 1\n",
      "8 : 1\n",
      "23 : 1\n",
      "data science : 1\n",
      "k2 : 1\n"
     ]
    }
   ],
   "source": [
    "# smart code\n",
    "\n",
    "l1 = []\n",
    "for i in l :\n",
    "    if type(i) == list or type(i) == tuple or type(i) == set:\n",
    "        for j in i:\n",
    "            if type(j) == int or type(j) == str:\n",
    "                l1.append(j)\n",
    "    if type(i) == dict:\n",
    "        for k in i.items():\n",
    "            for g in k:\n",
    "                if type(g) == int or type(g) == str:\n",
    "                    l1.append(g)\n",
    "print(l1)\n",
    "\n",
    "for i in set(l1) :\n",
    "    print(i, \":\", l1.count(i))"
   ]
  },
  {
   "cell_type": "code",
   "execution_count": 113,
   "id": "b57735d8",
   "metadata": {},
   "outputs": [],
   "source": [
    "# my code\n",
    "unique = set()\n",
    "\n",
    "for i in l:\n",
    "    if type(i) == list or type(i) == tuple or type(i) == set:\n",
    "        for j in i:\n",
    "            unique.add(j)\n",
    "    if type(i) == dict:\n",
    "        for k,v in i.items():\n",
    "            unique.add(k)\n",
    "            unique.add(v)"
   ]
  },
  {
   "cell_type": "code",
   "execution_count": 114,
   "id": "036bfb39",
   "metadata": {},
   "outputs": [
    {
     "data": {
      "text/plain": [
       "{1,\n",
       " 2,\n",
       " 23,\n",
       " 3,\n",
       " 4,\n",
       " 45,\n",
       " 5,\n",
       " 6,\n",
       " 7,\n",
       " 8,\n",
       " 'data science',\n",
       " 'ineuron',\n",
       " 'k1',\n",
       " 'k2',\n",
       " 'k3',\n",
       " 'kumar',\n",
       " 'sudh'}"
      ]
     },
     "execution_count": 114,
     "metadata": {},
     "output_type": "execute_result"
    }
   ],
   "source": [
    "unique"
   ]
  },
  {
   "cell_type": "code",
   "execution_count": 115,
   "id": "e43cf343",
   "metadata": {},
   "outputs": [
    {
     "data": {
      "text/plain": [
       "[[1, 2, 3, 4],\n",
       " (2, 3, 4, 5, 6),\n",
       " (3, 4, 5, 6, 7),\n",
       " {4, 5, 23, 45},\n",
       " {'k1': 'sudh', 'k2': 'ineuron', 'k3': 'kumar', 3: 6, 7: 8},\n",
       " ['ineuron', 'data science']]"
      ]
     },
     "execution_count": 115,
     "metadata": {},
     "output_type": "execute_result"
    }
   ],
   "source": [
    "l"
   ]
  },
  {
   "cell_type": "raw",
   "id": "4ca49e6b",
   "metadata": {},
   "source": [
    "q11: try to find out number of keys in dict elements"
   ]
  },
  {
   "cell_type": "code",
   "execution_count": 33,
   "id": "7101d0b2",
   "metadata": {},
   "outputs": [
    {
     "name": "stdout",
     "output_type": "stream",
     "text": [
      "5\n"
     ]
    }
   ],
   "source": [
    "for i in l :\n",
    "    if type(i) == dict:\n",
    "        print(len(list(i.keys())))"
   ]
  },
  {
   "cell_type": "code",
   "execution_count": 34,
   "id": "78ccd3c1",
   "metadata": {},
   "outputs": [
    {
     "name": "stdout",
     "output_type": "stream",
     "text": [
      "5\n"
     ]
    }
   ],
   "source": [
    "for i in l :\n",
    "    if type(i) == dict:\n",
    "        print(len(i))"
   ]
  },
  {
   "cell_type": "code",
   "execution_count": 118,
   "id": "5086519f",
   "metadata": {},
   "outputs": [
    {
     "name": "stdout",
     "output_type": "stream",
     "text": [
      "['k1', 'k2', 'k3', 3, 7]\n",
      "5\n"
     ]
    }
   ],
   "source": [
    "# my code\n",
    "keys = []\n",
    "for i in l:\n",
    "    if type(i) == dict:\n",
    "        for j in i:\n",
    "            keys.append(j)\n",
    "print(keys)\n",
    "print(len(keys))"
   ]
  },
  {
   "cell_type": "raw",
   "id": "af1691d4",
   "metadata": {},
   "source": [
    "q12: try to filter out all the string in data"
   ]
  },
  {
   "cell_type": "code",
   "execution_count": 36,
   "id": "1675811d",
   "metadata": {},
   "outputs": [
    {
     "name": "stdout",
     "output_type": "stream",
     "text": [
      "k1\n",
      "sudh\n",
      "k2\n",
      "ineuron\n",
      "k3\n",
      "kumar\n",
      "ineuron\n",
      "data science\n"
     ]
    }
   ],
   "source": [
    "# smart code\n",
    "for i in l1:\n",
    "    if type(i) == str:\n",
    "        print(i)"
   ]
  },
  {
   "cell_type": "code",
   "execution_count": 120,
   "id": "9d35503f",
   "metadata": {
    "scrolled": true
   },
   "outputs": [
    {
     "data": {
      "text/plain": [
       "[[1, 2, 3, 4],\n",
       " (2, 3, 4, 5, 6),\n",
       " (3, 4, 5, 6, 7),\n",
       " {4, 5, 23, 45},\n",
       " {'k1': 'sudh', 'k2': 'ineuron', 'k3': 'kumar', 3: 6, 7: 8},\n",
       " ['ineuron', 'data science']]"
      ]
     },
     "execution_count": 120,
     "metadata": {},
     "output_type": "execute_result"
    }
   ],
   "source": [
    "l"
   ]
  },
  {
   "cell_type": "code",
   "execution_count": 134,
   "id": "2ef31f0b",
   "metadata": {},
   "outputs": [
    {
     "name": "stdout",
     "output_type": "stream",
     "text": [
      "['k1', 'sudh', 'k2', 'ineuron', 'k3', 'kumar', 'ineuron', 'data science']\n"
     ]
    }
   ],
   "source": [
    "string = []\n",
    "for i in l:\n",
    "    if type(i) == list or type(i) == tuple or type(i) == set:\n",
    "        for j in i :\n",
    "            if type(j) == str :\n",
    "                string.append(j)\n",
    "    if type(i) == dict:\n",
    "        for k,v in i.items():\n",
    "            if type(k) == str or type(v) == str:\n",
    "                string.append(k)\n",
    "                string.append(v)\n",
    "print(string)"
   ]
  },
  {
   "cell_type": "raw",
   "id": "98da627f",
   "metadata": {},
   "source": [
    "q13: try to find out alpha numeric in data"
   ]
  },
  {
   "cell_type": "code",
   "execution_count": 40,
   "id": "a4ddd53d",
   "metadata": {},
   "outputs": [
    {
     "name": "stdout",
     "output_type": "stream",
     "text": [
      "k1\n",
      "sudh\n",
      "k2\n",
      "ineuron\n",
      "k3\n",
      "kumar\n",
      "ineuron\n"
     ]
    }
   ],
   "source": [
    "# smart code\n",
    "for i in l1 :\n",
    "    if type(i) == str :\n",
    "        if i.isalnum() :\n",
    "            print(i)"
   ]
  },
  {
   "cell_type": "code",
   "execution_count": 123,
   "id": "010c583b",
   "metadata": {},
   "outputs": [
    {
     "data": {
      "text/plain": [
       "[[1, 2, 3, 4],\n",
       " (2, 3, 4, 5, 6),\n",
       " (3, 4, 5, 6, 7),\n",
       " {4, 5, 23, 45},\n",
       " {'k1': 'sudh', 'k2': 'ineuron', 'k3': 'kumar', 3: 6, 7: 8},\n",
       " ['ineuron', 'data science']]"
      ]
     },
     "execution_count": 123,
     "metadata": {},
     "output_type": "execute_result"
    }
   ],
   "source": [
    "l"
   ]
  },
  {
   "cell_type": "code",
   "execution_count": 160,
   "id": "60ca519f",
   "metadata": {
    "scrolled": true
   },
   "outputs": [
    {
     "name": "stdout",
     "output_type": "stream",
     "text": [
      "k1 sudh\n",
      "k2 ineuron\n",
      "k3 kumar\n"
     ]
    },
    {
     "ename": "TypeError",
     "evalue": "'in <string>' requires string as left operand, not type",
     "output_type": "error",
     "traceback": [
      "\u001b[1;31m---------------------------------------------------------------------------\u001b[0m",
      "\u001b[1;31mTypeError\u001b[0m                                 Traceback (most recent call last)",
      "\u001b[1;32m~\\AppData\\Local\\Temp/ipykernel_13656/3188233299.py\u001b[0m in \u001b[0;36m<module>\u001b[1;34m\u001b[0m\n\u001b[0;32m      4\u001b[0m         \u001b[1;32mfor\u001b[0m \u001b[0mj\u001b[0m \u001b[1;32min\u001b[0m \u001b[0mi\u001b[0m \u001b[1;33m:\u001b[0m\u001b[1;33m\u001b[0m\u001b[1;33m\u001b[0m\u001b[0m\n\u001b[0;32m      5\u001b[0m             \u001b[1;32mif\u001b[0m \u001b[0mtype\u001b[0m\u001b[1;33m(\u001b[0m\u001b[0mj\u001b[0m\u001b[1;33m)\u001b[0m \u001b[1;33m==\u001b[0m \u001b[0mstr\u001b[0m\u001b[1;33m:\u001b[0m\u001b[1;33m\u001b[0m\u001b[1;33m\u001b[0m\u001b[0m\n\u001b[1;32m----> 6\u001b[1;33m                 \u001b[1;32mif\u001b[0m \u001b[0mint\u001b[0m \u001b[1;32min\u001b[0m \u001b[0mj\u001b[0m\u001b[1;33m:\u001b[0m\u001b[1;33m\u001b[0m\u001b[1;33m\u001b[0m\u001b[0m\n\u001b[0m\u001b[0;32m      7\u001b[0m                     \u001b[0malnum\u001b[0m\u001b[1;33m.\u001b[0m\u001b[0mappend\u001b[0m\u001b[1;33m(\u001b[0m\u001b[0mj\u001b[0m\u001b[1;33m)\u001b[0m\u001b[1;33m\u001b[0m\u001b[1;33m\u001b[0m\u001b[0m\n\u001b[0;32m      8\u001b[0m     \u001b[1;32mif\u001b[0m \u001b[0mtype\u001b[0m\u001b[1;33m(\u001b[0m\u001b[0mi\u001b[0m\u001b[1;33m)\u001b[0m \u001b[1;33m==\u001b[0m \u001b[0mdict\u001b[0m\u001b[1;33m:\u001b[0m\u001b[1;33m\u001b[0m\u001b[1;33m\u001b[0m\u001b[0m\n",
      "\u001b[1;31mTypeError\u001b[0m: 'in <string>' requires string as left operand, not type"
     ]
    }
   ],
   "source": [
    "alnum = []\n",
    "for i in l:\n",
    "    if type(i) == list or type(i) == tuple or type(i) == set:\n",
    "        for j in i :\n",
    "            if type(j) == str:\n",
    "                if int in j:\n",
    "                    alnum.append(j)\n",
    "    if type(i) == dict:\n",
    "        for k,v in i.items():\n",
    "            if type(k) == str:\n",
    "                print(k,v)\n",
    "                if k.isalpha() and k.isnumeric() :\n",
    "                    alnum.append(k)\n",
    "            if type(v) == str:\n",
    "                if v.isalpha() and v.isnumeric() :    \n",
    "                        alnum.append(v)\n",
    "print(alnum)"
   ]
  },
  {
   "cell_type": "code",
   "execution_count": 159,
   "id": "c0f1f0f3",
   "metadata": {},
   "outputs": [
    {
     "data": {
      "text/plain": [
       "False"
      ]
     },
     "execution_count": 159,
     "metadata": {},
     "output_type": "execute_result"
    }
   ],
   "source": [
    "'k1'.isnumeric()"
   ]
  },
  {
   "cell_type": "code",
   "execution_count": null,
   "id": "fcaf95e4",
   "metadata": {},
   "outputs": [],
   "source": [
    "# find multiplication of all numbers in list"
   ]
  },
  {
   "cell_type": "code",
   "execution_count": 46,
   "id": "d00b95b1",
   "metadata": {},
   "outputs": [
    {
     "name": "stdout",
     "output_type": "stream",
     "text": [
      "908605071360000\n"
     ]
    }
   ],
   "source": [
    "# smart code\n",
    "j = 1\n",
    "for i in l1:\n",
    "    \n",
    "    if type(i) == int :\n",
    "        j=j*i\n",
    "print(j)"
   ]
  },
  {
   "cell_type": "code",
   "execution_count": 43,
   "id": "ea35a47c",
   "metadata": {},
   "outputs": [
    {
     "name": "stdout",
     "output_type": "stream",
     "text": [
      "[1, 2, 3, 4, 2, 3, 4, 5, 6, 3, 4, 5, 6, 7, 5, 4, 45, 23, 3, 6, 7, 8]\n",
      "908605071360000\n"
     ]
    }
   ],
   "source": [
    "# smart code\n",
    "l2 = []\n",
    "for i in l1:\n",
    "    if type(i) == int :\n",
    "        l2.append(i)\n",
    "print(l2)\n",
    "j = 1\n",
    "for i in l2:\n",
    "    j=j*i\n",
    "print(j)"
   ]
  },
  {
   "cell_type": "raw",
   "id": "729d2ccc",
   "metadata": {},
   "source": [
    "q14: try to find out multiplication of all numerical values in the individual collections inside dataset"
   ]
  },
  {
   "cell_type": "code",
   "execution_count": 47,
   "id": "f5543046",
   "metadata": {},
   "outputs": [
    {
     "data": {
      "text/plain": [
       "[[1, 2, 3, 4],\n",
       " (2, 3, 4, 5, 6),\n",
       " (3, 4, 5, 6, 7),\n",
       " {4, 5, 23, 45},\n",
       " {'k1': 'sudh', 'k2': 'ineuron', 'k3': 'kumar', 3: 6, 7: 8},\n",
       " ['ineuron', 'data science']]"
      ]
     },
     "execution_count": 47,
     "metadata": {},
     "output_type": "execute_result"
    }
   ],
   "source": [
    "l"
   ]
  },
  {
   "cell_type": "code",
   "execution_count": 56,
   "id": "2ac4bf2c",
   "metadata": {},
   "outputs": [
    {
     "name": "stdout",
     "output_type": "stream",
     "text": [
      "<class 'list'> : 24\n",
      "<class 'tuple'> : 720\n",
      "<class 'tuple'> : 2520\n",
      "<class 'set'> : 20700\n",
      "<class 'dict'> 1008\n",
      "<class 'list'> : 1\n"
     ]
    }
   ],
   "source": [
    "# smart code\n",
    "\n",
    "for i in l:\n",
    "    m = 1\n",
    "    if type(i) == list or type(i) == tuple or type(i) == set:\n",
    "        for j in i :\n",
    "            if type(j) == int :\n",
    "                m = m*j  \n",
    "        print(type(i), \":\", m)\n",
    "    if type(i) == dict:\n",
    "        for k in i.items():\n",
    "            for n in k :\n",
    "                if type(n) == int :\n",
    "                    m = m * n\n",
    "        print(type(i), m)"
   ]
  },
  {
   "cell_type": "code",
   "execution_count": 164,
   "id": "9a2e6746",
   "metadata": {},
   "outputs": [
    {
     "name": "stdout",
     "output_type": "stream",
     "text": [
      "All numeric values in list: \n",
      " [1, 2, 3, 4, 2, 3, 4, 5, 6, 3, 4, 5, 6, 7, 45, 4, 5, 23, 3, 6, 7, 8]\n",
      "8\n"
     ]
    },
    {
     "data": {
      "text/plain": [
       "[1, 2, 3, 4, 2, 3, 4, 5, 6, 3, 4, 5, 6, 7, 45, 4, 5, 23, 3, 6, 7, 8]"
      ]
     },
     "execution_count": 164,
     "metadata": {},
     "output_type": "execute_result"
    }
   ],
   "source": [
    "multiplication = []\n",
    "for i in l:\n",
    "    if type(i) == list or type(i) == tuple or type(i) == set:\n",
    "        for j in i :\n",
    "            if type(j) == int :\n",
    "                multiplication.append(j)\n",
    "                \n",
    "    if type(i) == dict:\n",
    "        for k , v in i.items() :\n",
    "            if type(k) == int :\n",
    "                multiplication.append(k)\n",
    "            if type(v) == int  :    \n",
    "                multiplication.append(v)\n",
    "print('All numeric values in list: \\n',multiplication)\n"
   ]
  },
  {
   "cell_type": "raw",
   "id": "262e70ad",
   "metadata": {},
   "source": [
    "q15: try to unqrape all the collection inside collection and create a flatten list"
   ]
  },
  {
   "cell_type": "code",
   "execution_count": 146,
   "id": "f57013f5",
   "metadata": {},
   "outputs": [
    {
     "name": "stdout",
     "output_type": "stream",
     "text": [
      "[1, 2, 3, 4, 2, 3, 4, 5, 6, 3, 4, 5, 6, 7, 45, 4, 5, 23, 'k1', 'sudh', 'k2', 'ineuron', 'k3', 'kumar', 3, 6, 7, 8, 'ineuron', 'data science']\n"
     ]
    }
   ],
   "source": [
    "flatlist = []\n",
    "for i in l:\n",
    "    if type(i) == list or type(i) == tuple or type(i) == set:\n",
    "        for j in i :\n",
    "             flatlist.append(j)\n",
    "    if type(i) == dict:\n",
    "        for k,v in i.items():\n",
    "            flatlist.append(k) \n",
    "            flatlist.append(v)\n",
    "print(flatlist)"
   ]
  },
  {
   "cell_type": "code",
   "execution_count": null,
   "id": "4aba4dcd",
   "metadata": {},
   "outputs": [],
   "source": []
  }
 ],
 "metadata": {
  "kernelspec": {
   "display_name": "Python 3 (ipykernel)",
   "language": "python",
   "name": "python3"
  },
  "language_info": {
   "codemirror_mode": {
    "name": "ipython",
    "version": 3
   },
   "file_extension": ".py",
   "mimetype": "text/x-python",
   "name": "python",
   "nbconvert_exporter": "python",
   "pygments_lexer": "ipython3",
   "version": "3.9.7"
  }
 },
 "nbformat": 4,
 "nbformat_minor": 5
}
