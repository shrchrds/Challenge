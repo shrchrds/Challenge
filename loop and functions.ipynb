{
 "cells": [
  {
   "cell_type": "raw",
   "id": "4e1f5b37",
   "metadata": {},
   "source": [
    "1. try to print using while loop\n",
    "*\n",
    "* *\n",
    "* * *\n",
    "* * * *\n",
    "* * * * * \n",
    "* * * * * *\n",
    "* * * * * * * \n",
    "* * * * * * * * \n",
    "* * * * * * * * *"
   ]
  },
  {
   "cell_type": "code",
   "execution_count": null,
   "id": "795d82c9",
   "metadata": {
    "scrolled": false
   },
   "outputs": [],
   "source": [
    "n = 9\n",
    "a = 1\n",
    "\n",
    "while a<=n:\n",
    "    print(' * '*a)\n",
    "    a = a + 1"
   ]
  },
  {
   "cell_type": "code",
   "execution_count": null,
   "id": "768b3cdf",
   "metadata": {},
   "outputs": [],
   "source": [
    "# using for loop\n",
    "n = 9\n",
    "for i in range(n):\n",
    "    for j in range(0,i+1):\n",
    "        print('*',end='   ')\n",
    "    print('\\n')"
   ]
  },
  {
   "cell_type": "code",
   "execution_count": null,
   "id": "7fdcc1aa",
   "metadata": {
    "scrolled": true
   },
   "outputs": [],
   "source": [
    "n = 1\n",
    "a = 9\n",
    "while a >= n:\n",
    "    print(' * '*a)\n",
    "    a = a - 1\n",
    "    if a == 9:\n",
    "        break"
   ]
  },
  {
   "cell_type": "code",
   "execution_count": null,
   "id": "ec243eac",
   "metadata": {
    "scrolled": true
   },
   "outputs": [],
   "source": [
    "n = 7\n",
    "a = 1\n",
    "b = 0\n",
    "alphabets = 'ABCDEFGHIJKLMNOPQRSTUVWXYZ'\n",
    "while b < n:\n",
    "    print(alphabets[b])\n",
    "    b = b + 1"
   ]
  },
  {
   "cell_type": "raw",
   "id": "d6f2843c",
   "metadata": {},
   "source": [
    "2. try to print below using while loop\n",
    "A\n",
    "B H \n",
    "C I N \n",
    "D J O S\n",
    "E K P T W\n",
    "F L Q U X Z\n",
    "G M R V Y"
   ]
  },
  {
   "cell_type": "code",
   "execution_count": 1,
   "id": "b2d8c20b",
   "metadata": {},
   "outputs": [
    {
     "name": "stdout",
     "output_type": "stream",
     "text": [
      "A \n",
      "B H \n",
      "C I N \n",
      "D J O S \n",
      "E K P T W \n",
      "F L Q U X Z \n",
      "G M R V Y \n"
     ]
    }
   ],
   "source": [
    "# smart code\n",
    "i = 0\n",
    "while i < 7:\n",
    "    c = 65 + i\n",
    "    j = 0\n",
    "    \n",
    "    while j < (i + 1) :\n",
    "        if c == 91:\n",
    "            break\n",
    "        print(chr(c), end=\" \")\n",
    "        c = c + 6 - j\n",
    "        j +=1\n",
    "    i +=1\n",
    "    print()"
   ]
  },
  {
   "cell_type": "code",
   "execution_count": null,
   "id": "c8fa128b",
   "metadata": {},
   "outputs": [],
   "source": [
    "x = 0\n",
    "while x < 8:\n",
    "    content = \"\"\n",
    "    y = 0\n",
    "    while y < x:\n",
    "        z = 0\n",
    "        summ = 0\n",
    "        \n",
    "        while z < y:\n",
    "            summ += 6-z\n",
    "            z += 1\n",
    "        if (x + 64 + summ) <= (64 + 26):\n",
    "            content += \" \" + chr(x + 64 + summ)\n",
    "        y +=1\n",
    "    print(content)\n",
    "    x +=1"
   ]
  },
  {
   "cell_type": "raw",
   "id": "51d1c9fe",
   "metadata": {},
   "source": [
    "3. Try to print all the numbers divisible by 3 in between range of 40 - 400"
   ]
  },
  {
   "cell_type": "code",
   "execution_count": null,
   "id": "8c8122c9",
   "metadata": {},
   "outputs": [],
   "source": [
    "# smart code\n",
    "\n",
    "a = 40\n",
    "\n",
    "while a <= 400:\n",
    "    if a %3 == 0 :\n",
    "        print(a, end=' ')\n",
    "    a = a + 1"
   ]
  },
  {
   "cell_type": "code",
   "execution_count": null,
   "id": "b0e37e68",
   "metadata": {},
   "outputs": [],
   "source": [
    "a, b = (40,400)\n",
    "\n",
    "while a <= b:\n",
    "    if a %3 == 0:\n",
    "        print(a, end=' ')\n",
    "    a = a + 1"
   ]
  },
  {
   "cell_type": "code",
   "execution_count": null,
   "id": "981cb949",
   "metadata": {},
   "outputs": [],
   "source": [
    "4. try to filter out all the vowels from below string using while loop :\n",
    "    "
   ]
  },
  {
   "cell_type": "code",
   "execution_count": null,
   "id": "7dc09f18",
   "metadata": {},
   "outputs": [],
   "source": [
    "# smart code\n",
    "i = 0\n",
    "v = 'aeiou'\n",
    "string = string.lower()\n",
    "while i < len(string):\n",
    "    if string[i] in v :\n",
    "        print(string[i], end=' ')\n",
    "    i +=1"
   ]
  },
  {
   "cell_type": "code",
   "execution_count": null,
   "id": "6afce122",
   "metadata": {},
   "outputs": [],
   "source": [
    "string = \"\"\" \n",
    "        Python is a high-level, interpreted, general-purpose programming language. Its design philosophy emphasizes code readability with the use of significant indentation.[31]\n",
    "\n",
    "        Python is dynamically-typed and garbage-collected. It supports multiple programming paradigms, including structured (particularly procedural), object-oriented and functional programming. It is often described as a \"batteries included\" language due to its comprehensive standard library.[32][33]\n",
    "    \n",
    "        Guido van Rossum began working on Python in the late 1980s as a successor to the ABC programming language and first released it in 1991 as Python 0.9.0.[34] Python 2.0 was released in 2000 and introduced new features such as list comprehensions, cycle-detecting garbage collection, reference counting, and Unicode support. Python 3.0, released in 2008, was a major revision that is not completely backward-compatible with earlier versions. Python 2 was discontinued with version 2.7.18 in 2020.[35]\n",
    "\n",
    "        Python consistently ranks as one of the most popular programming languages\n",
    "        \"\"\"\n",
    "a = 0\n",
    "vowels = []\n",
    "while a < len(string):\n",
    "    if string[a].lower() in 'aeiou':\n",
    "        vowels.append(string[a])\n",
    "    a = a + 1\n",
    "print(vowels)"
   ]
  },
  {
   "cell_type": "raw",
   "id": "c3d15761",
   "metadata": {},
   "source": [
    "5. try to generate all the even number between 1 - 1000"
   ]
  },
  {
   "cell_type": "code",
   "execution_count": null,
   "id": "f2b84918",
   "metadata": {},
   "outputs": [],
   "source": [
    "# smart code\n",
    "a = 1\n",
    "while a <= 1000:\n",
    "    if a %2 == 0:\n",
    "        print(a,end=' ')\n",
    "    a = a + 1"
   ]
  },
  {
   "cell_type": "code",
   "execution_count": null,
   "id": "850421c3",
   "metadata": {},
   "outputs": [],
   "source": [
    "a = 1\n",
    "even = []\n",
    "while a <= 1000:\n",
    "    if a %2 == 0:\n",
    "        even.append(a)\n",
    "    a = a + 1\n",
    "print(even)"
   ]
  },
  {
   "cell_type": "raw",
   "id": "285c11ee",
   "metadata": {},
   "source": [
    "6. define a fuction for all the above problem statement"
   ]
  },
  {
   "cell_type": "code",
   "execution_count": null,
   "id": "83f0767b",
   "metadata": {
    "scrolled": true
   },
   "outputs": [],
   "source": [
    "def star(n,a):\n",
    "    while a<=n:\n",
    "        print(' * '*a)\n",
    "        a = a + 1\n",
    "star(9,1)"
   ]
  },
  {
   "cell_type": "code",
   "execution_count": null,
   "id": "a5c4bb12",
   "metadata": {
    "scrolled": true
   },
   "outputs": [],
   "source": [
    "def divisible(a,b):\n",
    "    while a <= b:\n",
    "        if a %3 == 0:\n",
    "            print(a, end=' ')\n",
    "        a = a + 1\n",
    "divisible(40,400)"
   ]
  },
  {
   "cell_type": "code",
   "execution_count": null,
   "id": "f2b8496d",
   "metadata": {
    "scrolled": true
   },
   "outputs": [],
   "source": [
    "def vowels(string):\n",
    "    a = 0\n",
    "    vowels = []\n",
    "    while a < len(string):\n",
    "        if string[a].lower() in 'aeiou':\n",
    "            vowels.append(string[a])\n",
    "        a = a + 1\n",
    "    print(vowels)\n",
    "vowels(\"\"\" \n",
    "        Python is a high-level, interpreted, general-purpose programming language. Its design philosophy emphasizes code readability with the use of significant indentation.[31]\n",
    "\n",
    "        Python is dynamically-typed and garbage-collected. It supports multiple programming paradigms, including structured (particularly procedural), object-oriented and functional programming. It is often described as a \"batteries included\" language due to its comprehensive standard library.[32][33]\n",
    "    \n",
    "        Guido van Rossum began working on Python in the late 1980s as a successor to the ABC programming language and first released it in 1991 as Python 0.9.0.[34] Python 2.0 was released in 2000 and introduced new features such as list comprehensions, cycle-detecting garbage collection, reference counting, and Unicode support. Python 3.0, released in 2008, was a major revision that is not completely backward-compatible with earlier versions. Python 2 was discontinued with version 2.7.18 in 2020.[35]\n",
    "\n",
    "        Python consistently ranks as one of the most popular programming languages\n",
    "        \"\"\")"
   ]
  },
  {
   "cell_type": "code",
   "execution_count": null,
   "id": "0cdd3478",
   "metadata": {},
   "outputs": [],
   "source": [
    "def even(low, high):\n",
    "    a = 1\n",
    "    even = []\n",
    "    while a <= 1000:\n",
    "        if a %2 == 0:\n",
    "            even.append(a)\n",
    "        a = a + 1\n",
    "    print(even)\n",
    "even(1,1000)"
   ]
  },
  {
   "cell_type": "raw",
   "id": "e14e341c",
   "metadata": {},
   "source": [
    "7. write a code to get a time of your system"
   ]
  },
  {
   "cell_type": "code",
   "execution_count": null,
   "id": "15d3fa51",
   "metadata": {},
   "outputs": [],
   "source": [
    "import datetime\n",
    "datetime.datetime.now().time()"
   ]
  },
  {
   "cell_type": "raw",
   "id": "4de5738b",
   "metadata": {},
   "source": [
    "8. write a code to fetch date from your system"
   ]
  },
  {
   "cell_type": "code",
   "execution_count": null,
   "id": "761fa56c",
   "metadata": {},
   "outputs": [],
   "source": [
    "datetime.date.today()"
   ]
  },
  {
   "cell_type": "code",
   "execution_count": null,
   "id": "4c33569f",
   "metadata": {},
   "outputs": [],
   "source": [
    "datetime.datetime.now().date()"
   ]
  },
  {
   "cell_type": "raw",
   "id": "c8d9b57a",
   "metadata": {},
   "source": [
    "9. write a code to send a mail to your friend"
   ]
  },
  {
   "cell_type": "code",
   "execution_count": null,
   "id": "390f214f",
   "metadata": {},
   "outputs": [],
   "source": [
    "import smtplib\n",
    "\n",
    "server = smtplib.SMTP('smtp.gmail.com',587)\n",
    "\n",
    "server.starttls()\n",
    "\n",
    "server.login(\"datasnekatpure@gmail.com\",\"Datascientist@22\")\n",
    "\n",
    "server.sendmail('snepvpit@gmail.com','shivekatpure@gmail.com','I am learning to send email using Python')\n",
    "\n",
    "print('Mail Sent')"
   ]
  },
  {
   "cell_type": "raw",
   "id": "77741378",
   "metadata": {},
   "source": [
    "10. write a code to trigger alarm for you at sceduled time"
   ]
  },
  {
   "cell_type": "code",
   "execution_count": null,
   "id": "70ad040e",
   "metadata": {},
   "outputs": [],
   "source": [
    "import time\n",
    "import playsound\n",
    "\n",
    "alarm_time = \"12:46\"\n",
    "if time.asctime()[11:-8] == alarm_time :\n",
    "    absolute_path = os.path.abspath(\".mp3\")\n",
    "    print(absolute_path)\n",
    "    playsound.playsound(absolute_path)"
   ]
  },
  {
   "cell_type": "raw",
   "id": "24c74f56",
   "metadata": {},
   "source": [
    "11. write a code to check address of your system"
   ]
  },
  {
   "cell_type": "code",
   "execution_count": null,
   "id": "d501971c",
   "metadata": {},
   "outputs": [],
   "source": [
    "import socket\n",
    "host = socket.gethostname()\n",
    "ip = socket.gethostbyname(host)\n",
    "print(\"ip address: \",ip)\n",
    "print(\"com name: \", host)"
   ]
  },
  {
   "cell_type": "raw",
   "id": "52763bb7",
   "metadata": {},
   "source": [
    "12. write a code to check a particular installation in your system"
   ]
  },
  {
   "cell_type": "code",
   "execution_count": 1,
   "id": "74c0a788",
   "metadata": {},
   "outputs": [
    {
     "ename": "ModuleNotFoundError",
     "evalue": "No module named 'winapps'",
     "output_type": "error",
     "traceback": [
      "\u001b[1;31m---------------------------------------------------------------------------\u001b[0m",
      "\u001b[1;31mModuleNotFoundError\u001b[0m                       Traceback (most recent call last)",
      "\u001b[1;32m~\\AppData\\Local\\Temp/ipykernel_10116/3101010044.py\u001b[0m in \u001b[0;36m<module>\u001b[1;34m\u001b[0m\n\u001b[0;32m      1\u001b[0m \u001b[1;31m# pip install winapps\u001b[0m\u001b[1;33m\u001b[0m\u001b[1;33m\u001b[0m\u001b[0m\n\u001b[1;32m----> 2\u001b[1;33m \u001b[1;32mimport\u001b[0m \u001b[0mwinapps\u001b[0m\u001b[1;33m\u001b[0m\u001b[1;33m\u001b[0m\u001b[0m\n\u001b[0m\u001b[0;32m      3\u001b[0m \u001b[0mlist\u001b[0m\u001b[1;33m(\u001b[0m\u001b[0mwinapps\u001b[0m\u001b[1;33m.\u001b[0m\u001b[0mlist_installed\u001b[0m\u001b[1;33m(\u001b[0m\u001b[1;33m)\u001b[0m\u001b[1;33m)\u001b[0m\u001b[1;33m\u001b[0m\u001b[1;33m\u001b[0m\u001b[0m\n",
      "\u001b[1;31mModuleNotFoundError\u001b[0m: No module named 'winapps'"
     ]
    }
   ],
   "source": [
    "# pip install winapps\n",
    "import winapps\n",
    "list(winapps.list_installed())"
   ]
  },
  {
   "cell_type": "raw",
   "id": "e1ba43e8",
   "metadata": {},
   "source": [
    "13. write a code to convert any text into voice"
   ]
  },
  {
   "cell_type": "code",
   "execution_count": null,
   "id": "a578324f",
   "metadata": {},
   "outputs": [],
   "source": [
    "import gtts\n",
    "from playsound import playsound\n",
    "\n",
    "def text_to_voice(str1):\n",
    "    tts = gtts.gtts(str1)\n",
    "    tts.save('')"
   ]
  },
  {
   "cell_type": "raw",
   "id": "ca7f0530",
   "metadata": {},
   "source": [
    "14. you have to write a function which will take string and return len of it without using inbuilt len function"
   ]
  },
  {
   "cell_type": "code",
   "execution_count": 2,
   "id": "4c989260",
   "metadata": {},
   "outputs": [
    {
     "data": {
      "text/plain": [
       "'Lenght of given string is: 18'"
      ]
     },
     "execution_count": 2,
     "metadata": {},
     "output_type": "execute_result"
    }
   ],
   "source": [
    "def length(string):\n",
    "    count = 0\n",
    "    for i in string:\n",
    "        count += 1\n",
    "    return f'Lenght of given string is: {count}'\n",
    "length('shivanand Ekatpure')"
   ]
  },
  {
   "cell_type": "raw",
   "id": "5bb75e73",
   "metadata": {},
   "source": [
    "15. write a function which will be able to print an index of all premitive element which you pass"
   ]
  },
  {
   "cell_type": "code",
   "execution_count": 7,
   "id": "3d588b6a",
   "metadata": {},
   "outputs": [
    {
     "name": "stdout",
     "output_type": "stream",
     "text": [
      "0\n",
      "1\n",
      "2\n"
     ]
    }
   ],
   "source": [
    "# smart code\n",
    "def index(l):\n",
    "    for i in range(len(l)):\n",
    "        print(i)\n",
    "index([1,2,3])"
   ]
  },
  {
   "cell_type": "code",
   "execution_count": 3,
   "id": "70eb137d",
   "metadata": {},
   "outputs": [
    {
     "name": "stdout",
     "output_type": "stream",
     "text": [
      "Enter an element to find out index3\n"
     ]
    },
    {
     "data": {
      "text/plain": [
       "2"
      ]
     },
     "execution_count": 3,
     "metadata": {},
     "output_type": "execute_result"
    }
   ],
   "source": [
    "def index(sequence):\n",
    "    ele = int(input('Enter an element to find out index'))\n",
    "    for i in sequence:\n",
    "        return sequence.index(ele)\n",
    "index([1,2,3])"
   ]
  },
  {
   "cell_type": "raw",
   "id": "2b7b2dce",
   "metadata": {},
   "source": [
    "16. wirte a function which will take input as a dict and give me output as a list of all the values, EVEN IF THERE IS NESTED DICTIONARY IT SHOULD WORK"
   ]
  },
  {
   "cell_type": "code",
   "execution_count": 9,
   "id": "765227bd",
   "metadata": {},
   "outputs": [
    {
     "data": {
      "text/plain": [
       "['Shiv', 'Data Scientist', 'AP', 200000]"
      ]
     },
     "execution_count": 9,
     "metadata": {},
     "output_type": "execute_result"
    }
   ],
   "source": [
    "# smart code\n",
    "d = {'name':'Shiv','profession':{'now':'Data Scientist', 'past':'AP'},'salary':200000}\n",
    "\n",
    "def dict_to_val(d):\n",
    "    l = []\n",
    "    for i in d.values():\n",
    "        if type(i) != dict:\n",
    "            l.append(i)\n",
    "        if type(i) == dict:\n",
    "            for j in i.values():\n",
    "                l.append(j)\n",
    "    return l\n",
    "dict_to_val(d)"
   ]
  },
  {
   "cell_type": "code",
   "execution_count": null,
   "id": "c97b760c",
   "metadata": {},
   "outputs": [],
   "source": [
    "def dictval(d):\n",
    "    return list(d.values())\n",
    "d = {'name':'Shiv','profession':'Data Scientist','salary':200000}\n",
    "dictval(d)"
   ]
  },
  {
   "cell_type": "raw",
   "id": "22946bec",
   "metadata": {},
   "source": [
    "17. write a function which will take multiple list as a input and give me concatenation of all the element as output"
   ]
  },
  {
   "cell_type": "code",
   "execution_count": null,
   "id": "2ba363b7",
   "metadata": {},
   "outputs": [],
   "source": [
    "def conlst(l1,l2,l3):\n",
    "\n",
    "    l= [l1, l2, l3]\n",
    "    nl = []\n",
    "    for i in l:\n",
    "        for j in i:\n",
    "            nl.append(j)\n",
    "    \n",
    "    return nl\n",
    "conlst([1,2,3],[3,4,5],[5,9,8])"
   ]
  },
  {
   "cell_type": "raw",
   "id": "ff0acc5d",
   "metadata": {},
   "source": [
    "18. write a function which will return list of all the file name and show it to you"
   ]
  },
  {
   "cell_type": "code",
   "execution_count": 15,
   "id": "ceeff149",
   "metadata": {},
   "outputs": [],
   "source": [
    "# pip install opencv.python\n",
    "# import cv2\n",
    "# def read_img():\n",
    "#     a = cv2.imread('d:/abc.png')\n",
    "      cv2.imshow('myimg')  \n",
    "# read_img()"
   ]
  },
  {
   "cell_type": "raw",
   "id": "e40d99a4",
   "metadata": {},
   "source": [
    "19. write a function which will be able to read a image file & show it to you"
   ]
  },
  {
   "cell_type": "raw",
   "id": "1b18198d",
   "metadata": {},
   "source": [
    "20. write a function by which you will be able to append two pdf files"
   ]
  },
  {
   "cell_type": "code",
   "execution_count": null,
   "id": "ecb90d31",
   "metadata": {},
   "outputs": [],
   "source": []
  },
  {
   "cell_type": "raw",
   "id": "dca85610",
   "metadata": {},
   "source": [
    "# Home Work\n",
    "21. write a function which can help you to filter only word file from a directory\n",
    "22. write a function which can read video file and play for you.\n",
    "23. write a function which will be able to shutdown your system.\n",
    "24. write a function which will return list of all the file name from a directory\n",
    "25. write a function which will be able to acces your mail"
   ]
  },
  {
   "cell_type": "code",
   "execution_count": null,
   "id": "5760cdb2",
   "metadata": {},
   "outputs": [],
   "source": []
  }
 ],
 "metadata": {
  "kernelspec": {
   "display_name": "Python 3 (ipykernel)",
   "language": "python",
   "name": "python3"
  },
  "language_info": {
   "codemirror_mode": {
    "name": "ipython",
    "version": 3
   },
   "file_extension": ".py",
   "mimetype": "text/x-python",
   "name": "python",
   "nbconvert_exporter": "python",
   "pygments_lexer": "ipython3",
   "version": "3.9.7"
  }
 },
 "nbformat": 4,
 "nbformat_minor": 5
}
