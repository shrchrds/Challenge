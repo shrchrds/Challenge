{
 "cells": [
  {
   "cell_type": "code",
   "execution_count": 73,
   "id": "96ed3fca",
   "metadata": {
    "scrolled": true
   },
   "outputs": [
    {
     "name": "stdout",
     "output_type": "stream",
     "text": [
      "8 d\n",
      "7 n\n",
      "6 a\n",
      "5 n\n",
      "4 a\n",
      "3 v\n",
      "2 i\n",
      "1 h\n",
      "0 S\n"
     ]
    }
   ],
   "source": [
    "# print in reverse direction\n",
    "s = 'Shivanand'\n",
    "for i in range(len(s)-1, -1 , -1):\n",
    "    print(i, s[i])"
   ]
  },
  {
   "cell_type": "code",
   "execution_count": 74,
   "id": "03fb707e",
   "metadata": {},
   "outputs": [
    {
     "name": "stdout",
     "output_type": "stream",
     "text": [
      "8 d\n",
      "7 n\n",
      "6 a\n",
      "5 n\n",
      "4 a\n",
      "3 v\n",
      "2 i\n",
      "1 h\n",
      "0 S\n"
     ]
    }
   ],
   "source": [
    "# to get same in reverse order\n",
    "s = 'Shivanand'\n",
    "for i in range(len(s)):\n",
    "    print(len(s)-i-1, s[len(s)-i-1])"
   ]
  },
  {
   "cell_type": "code",
   "execution_count": 75,
   "id": "a3014608",
   "metadata": {},
   "outputs": [
    {
     "name": "stdout",
     "output_type": "stream",
     "text": [
      "8 d\n",
      "7 n\n",
      "6 a\n",
      "5 n\n",
      "4 a\n",
      "3 v\n",
      "2 i\n",
      "1 h\n",
      "0 S\n"
     ]
    }
   ],
   "source": [
    "# to get same in reverse order\n",
    "s = 'Shivanand'\n",
    "for i in range(len(s)):\n",
    "    print(len(s)-i-1, s[len(s)-i-1])"
   ]
  },
  {
   "cell_type": "code",
   "execution_count": 76,
   "id": "11d3fcc3",
   "metadata": {},
   "outputs": [
    {
     "data": {
      "text/plain": [
       "{'key1': 'Shiv', 'contact': 'shivekatpure@gmail.com', 'position': 'xyz'}"
      ]
     },
     "execution_count": 76,
     "metadata": {},
     "output_type": "execute_result"
    }
   ],
   "source": [
    "d "
   ]
  },
  {
   "cell_type": "code",
   "execution_count": 77,
   "id": "c532b331",
   "metadata": {},
   "outputs": [
    {
     "data": {
      "text/plain": [
       "dict_items([('key1', 'Shiv'), ('contact', 'shivekatpure@gmail.com'), ('position', 'xyz')])"
      ]
     },
     "execution_count": 77,
     "metadata": {},
     "output_type": "execute_result"
    }
   ],
   "source": [
    "d.items()"
   ]
  },
  {
   "cell_type": "code",
   "execution_count": 78,
   "id": "bb3c7a55",
   "metadata": {},
   "outputs": [
    {
     "name": "stdout",
     "output_type": "stream",
     "text": [
      "('key1', 'Shiv') <class 'tuple'> <class 'str'>\n",
      "('contact', 'shivekatpure@gmail.com') <class 'tuple'> <class 'str'>\n",
      "('position', 'xyz') <class 'tuple'> <class 'str'>\n"
     ]
    }
   ],
   "source": [
    "for i in d.items():\n",
    "    print(i, type(i), type(i[1]))"
   ]
  },
  {
   "cell_type": "code",
   "execution_count": 79,
   "id": "610a2561",
   "metadata": {},
   "outputs": [],
   "source": [
    "l =['Shiv', 'Ekatpure', 765848, 'snepvpit@gmail.com', 3485798354,345]"
   ]
  },
  {
   "cell_type": "code",
   "execution_count": 80,
   "id": "51b9cbe4",
   "metadata": {},
   "outputs": [
    {
     "name": "stdout",
     "output_type": "stream",
     "text": [
      "[765848, 3485798354, 345]\n"
     ]
    }
   ],
   "source": [
    "num = []\n",
    "for i in l :\n",
    "    if type(i) == int:\n",
    "        num.append(i)\n",
    "print(num)"
   ]
  },
  {
   "cell_type": "code",
   "execution_count": 81,
   "id": "88d97a21",
   "metadata": {},
   "outputs": [],
   "source": [
    "d = {1:433548, 'name':'Shiv', 'email':\"snepvpit@gmail.com\", 23:\"shifshjf\",23:\"shidsffshjf\", \"3485\":\"shjkdfhs\"}"
   ]
  },
  {
   "cell_type": "code",
   "execution_count": 82,
   "id": "6f4fc72b",
   "metadata": {},
   "outputs": [
    {
     "name": "stdout",
     "output_type": "stream",
     "text": [
      "[1, 23]\n"
     ]
    }
   ],
   "source": [
    "# seperate into different list, key must be numeric\n",
    "\n",
    "knum = []\n",
    "for i in d.keys():\n",
    "    if type(i) == int:\n",
    "        knum.append(i)\n",
    "print(knum)"
   ]
  },
  {
   "cell_type": "code",
   "execution_count": 83,
   "id": "920a26c5",
   "metadata": {},
   "outputs": [
    {
     "name": "stdout",
     "output_type": "stream",
     "text": [
      "1 : 433548\n",
      "23 : shidsffshjf\n"
     ]
    }
   ],
   "source": [
    "# print key:value pair for keys with number only\n",
    "for i in d:\n",
    "    if type(i) == int:\n",
    "        print(i, \":\",d[i])"
   ]
  },
  {
   "cell_type": "code",
   "execution_count": 84,
   "id": "706fe819",
   "metadata": {},
   "outputs": [
    {
     "name": "stdout",
     "output_type": "stream",
     "text": [
      "a : 4\n",
      "d : 1\n",
      "c : 2\n",
      "b : 2\n"
     ]
    }
   ],
   "source": [
    "# print occurence of each character in string\n",
    "s = 'aaaabbccd'\n",
    "# 1. find unique elements\n",
    "for i in set(s):\n",
    "    print(i,\":\", s.count(i))\n",
    "# 2. find count of each elements "
   ]
  },
  {
   "cell_type": "code",
   "execution_count": 85,
   "id": "c206fb09",
   "metadata": {},
   "outputs": [
    {
     "name": "stdout",
     "output_type": "stream",
     "text": [
      "3 <class 'int'>\n",
      "4 <class 'int'>\n",
      "5 <class 'int'>\n",
      "7 <class 'int'>\n",
      "8 <class 'int'>\n",
      "9 <class 'int'>\n",
      "3 <class 'int'>\n",
      "8 <class 'int'>\n",
      "9 <class 'int'>\n",
      "5 <class 'int'>\n",
      "3 <class 'int'>\n",
      "7 <class 'int'>\n",
      "8 <class 'int'>\n",
      "9 <class 'int'>\n"
     ]
    }
   ],
   "source": [
    "i = 34578938953789\n",
    "for j in str(i):\n",
    "    print(int(j), type(int(j)))"
   ]
  },
  {
   "cell_type": "code",
   "execution_count": 86,
   "id": "d0390d9d",
   "metadata": {},
   "outputs": [],
   "source": [
    "t = ('Shiv', 'Ekatpure', [1,2,3,4,5], (3,4,5,6),{'key2':'Shiv', 'key2':'Ekatpure'})"
   ]
  },
  {
   "cell_type": "code",
   "execution_count": 87,
   "id": "d8d087b5",
   "metadata": {
    "scrolled": true
   },
   "outputs": [
    {
     "name": "stdout",
     "output_type": "stream",
     "text": [
      "3\n",
      "3\n"
     ]
    }
   ],
   "source": [
    "for i in t:\n",
    "    if type(i) == list or type(i) == tuple:\n",
    "        for j in i :\n",
    "            if j == 3:\n",
    "                print(j)"
   ]
  },
  {
   "cell_type": "code",
   "execution_count": 88,
   "id": "0bb0a47e",
   "metadata": {},
   "outputs": [],
   "source": [
    "t = ('Shiv', 'Ekatpure', [1,2,3,4,5], (3,4,5,6),{3:3, 'key2':'Ekatpure'})"
   ]
  },
  {
   "cell_type": "code",
   "execution_count": 89,
   "id": "c48e67e2",
   "metadata": {},
   "outputs": [
    {
     "name": "stdout",
     "output_type": "stream",
     "text": [
      "3\n",
      "3\n",
      "{3: 3, 'key2': 'Ekatpure'}\n",
      "3\n",
      "3\n"
     ]
    }
   ],
   "source": [
    "for i in t:\n",
    "    if type(i) == list or type(i) == tuple:\n",
    "        for j in i :\n",
    "            if j == 3:\n",
    "                print(j)\n",
    "    if type(i) == dict:\n",
    "        print(i)        \n",
    "        for k,v in i.items():\n",
    "            if k == 3 or v==3:\n",
    "                print(k)\n",
    "                print(v)\n"
   ]
  },
  {
   "cell_type": "code",
   "execution_count": 90,
   "id": "cdf57ab1",
   "metadata": {},
   "outputs": [
    {
     "name": "stdout",
     "output_type": "stream",
     "text": [
      "3\n",
      "3\n",
      "3\n",
      "3\n",
      "{3: 3, 'key2': 'Ekatpure'}\n"
     ]
    }
   ],
   "source": [
    "for i in t:\n",
    "    if type(i) == list or type(i) == tuple:\n",
    "        for j in i :\n",
    "            if j == 3:\n",
    "                print(j)\n",
    "    if type(i) == dict:\n",
    "        for j in i:\n",
    "            if j == 3:\n",
    "                print(j)\n",
    "        for j in i.values():\n",
    "            if j == 3:\n",
    "                print(j)\n",
    "        print(i)"
   ]
  },
  {
   "cell_type": "code",
   "execution_count": 91,
   "id": "bd87e758",
   "metadata": {},
   "outputs": [
    {
     "name": "stdout",
     "output_type": "stream",
     "text": [
      "[1, 2, 3, 4, 5] : 3\n",
      "(3, 4, 5, 6) : 3\n",
      "{3: 3, 'key2': 'Ekatpure'} : 3\n"
     ]
    }
   ],
   "source": [
    "for i in t:\n",
    "    for j in i:\n",
    "        if j == 3:\n",
    "            print(i,\":\",j)"
   ]
  },
  {
   "cell_type": "code",
   "execution_count": 92,
   "id": "21c25b5c",
   "metadata": {},
   "outputs": [],
   "source": [
    "# Home Work"
   ]
  },
  {
   "cell_type": "code",
   "execution_count": 93,
   "id": "9524f305",
   "metadata": {},
   "outputs": [
    {
     "name": "stdout",
     "output_type": "stream",
     "text": [
      "*  \n",
      "\n",
      "*  *  \n",
      "\n",
      "*  *  *  \n",
      "\n",
      "*  *  *  *  \n",
      "\n",
      "*  *  *  *  *  \n",
      "\n"
     ]
    }
   ],
   "source": [
    "# left triangle\n",
    "n =5\n",
    "for i in range(n):\n",
    "    for j in range(0,i+1):\n",
    "        print(\"*\",end='  ')\n",
    "    print(\"\\n\")"
   ]
  },
  {
   "cell_type": "code",
   "execution_count": 94,
   "id": "7e5ac6c0",
   "metadata": {},
   "outputs": [
    {
     "name": "stdout",
     "output_type": "stream",
     "text": [
      "*  *  *  *  *  \n",
      "\n",
      "*  *  *  *  \n",
      "\n",
      "*  *  *  \n",
      "\n",
      "*  *  \n",
      "\n",
      "*  \n",
      "\n"
     ]
    }
   ],
   "source": [
    "# decreasing triangle\n",
    "n =5\n",
    "for i in range(n):\n",
    "    for j in range(i,n):\n",
    "        print(\"*\",end='  ')\n",
    "    print(\"\\n\")"
   ]
  },
  {
   "cell_type": "code",
   "execution_count": 95,
   "id": "2f31676a",
   "metadata": {},
   "outputs": [
    {
     "name": "stdout",
     "output_type": "stream",
     "text": [
      "          * \n",
      "\n",
      "        * * \n",
      "\n",
      "      * * * \n",
      "\n",
      "    * * * * \n",
      "\n",
      "  * * * * * \n",
      "\n"
     ]
    }
   ],
   "source": [
    "# decreasing space, increasing *\n",
    "n =5\n",
    "for i in range(n):\n",
    "    for j in range(n-i):\n",
    "        print(\" \",end=' ')\n",
    "    for j in range(0,i+1):\n",
    "        print('*', end=' ')\n",
    "    print(\"\\n\")\n",
    "    "
   ]
  },
  {
   "cell_type": "code",
   "execution_count": 96,
   "id": "7503031c",
   "metadata": {},
   "outputs": [
    {
     "name": "stdout",
     "output_type": "stream",
     "text": [
      "  * * * * * \n",
      "    * * * * \n",
      "      * * * \n",
      "        * * \n",
      "          * \n"
     ]
    }
   ],
   "source": [
    "# incrasing space, decreasing * \n",
    "n = 5\n",
    "for i in range(n):\n",
    "    for j in range(0,i+1):\n",
    "        print(' ',end=' ')\n",
    "    for j in range(i,n):\n",
    "        print('*',end=' ')\n",
    "    print()"
   ]
  },
  {
   "cell_type": "code",
   "execution_count": 97,
   "id": "1844ec7e",
   "metadata": {
    "scrolled": true
   },
   "outputs": [
    {
     "name": "stdout",
     "output_type": "stream",
     "text": [
      "          * \n",
      "        * * * \n",
      "      * * * * * \n",
      "    * * * * * * * \n",
      "  * * * * * * * * * \n"
     ]
    }
   ],
   "source": [
    "# 3 Hill pattern (decreasing space, increasing * on both sides)\n",
    "n = 5\n",
    "for i in range(n):\n",
    "    for j in range(n-i):\n",
    "        print(' ',end=' ')\n",
    "    for j in range(i+1):\n",
    "        print('*',end=' ')\n",
    "    for j in range(i):\n",
    "        print('*',end=' ')    \n",
    "    print()"
   ]
  },
  {
   "cell_type": "code",
   "execution_count": 98,
   "id": "d67ca1bc",
   "metadata": {},
   "outputs": [
    {
     "name": "stdout",
     "output_type": "stream",
     "text": [
      "  * * * * * * * * * \n",
      "\n",
      "    * * * * * * * \n",
      "\n",
      "      * * * * * \n",
      "\n",
      "        * * * \n",
      "\n",
      "          * \n",
      "\n"
     ]
    }
   ],
   "source": [
    "# 4 reverse hill pattern(increasing space, decreasing * left , increasing space)\n",
    "n = 5\n",
    "for i in range(n):\n",
    "    for j in range(0,i+1):\n",
    "        print(' ', end= ' ')\n",
    "    for j in range(i,n):\n",
    "        print('*',end=' ')\n",
    "    for j in range(i,n-1):\n",
    "        print('*',end=' ')\n",
    "    print(\"\\n\")"
   ]
  },
  {
   "cell_type": "code",
   "execution_count": 99,
   "id": "66cfa8bf",
   "metadata": {},
   "outputs": [
    {
     "name": "stdout",
     "output_type": "stream",
     "text": [
      "          * \n",
      "\n",
      "        * * * \n",
      "\n",
      "      * * * * * \n",
      "\n",
      "    * * * * * * * \n",
      "\n",
      "  * * * * * * * * * \n",
      "\n",
      "    * * * * * * * \n",
      "\n",
      "      * * * * * \n",
      "\n",
      "        * * * \n",
      "\n",
      "          * \n",
      "\n"
     ]
    }
   ],
   "source": [
    "# diamond pattern\n",
    "n = 5\n",
    "for i in range(n-1):\n",
    "    for j in range(i,n):\n",
    "        print(' ',end=' ')\n",
    "    for j in range(0,i+1):\n",
    "        print('*',end=' ')\n",
    "    for j in range(0,i):\n",
    "        print('*',end=' ')\n",
    "    print('\\n')\n",
    "for i in range(n):\n",
    "    for j in range(0,i+1):\n",
    "        print(' ',end=' ')\n",
    "    for j in range(i,n):\n",
    "        print('*',end=' ')\n",
    "    for j in range(i,n-1):\n",
    "        print('*',end=' ')\n",
    "    print('\\n')"
   ]
  },
  {
   "cell_type": "raw",
   "id": "4433716c",
   "metadata": {},
   "source": [
    "q1 : print\n",
    "ineuron\n",
    "ineuron ineuron\n",
    "ineuron ineuron ineuron\n",
    "ineuron ineuron ineuron ineuron"
   ]
  },
  {
   "cell_type": "code",
   "execution_count": 100,
   "id": "dac71372",
   "metadata": {},
   "outputs": [
    {
     "name": "stdout",
     "output_type": "stream",
     "text": [
      "ineuron \n",
      "\n",
      "ineuron ineuron \n",
      "\n",
      "ineuron ineuron ineuron \n",
      "\n",
      "ineuron ineuron ineuron ineuron \n",
      "\n"
     ]
    }
   ],
   "source": [
    "n = 4\n",
    "for i in range(n):\n",
    "    for j in range(0,i+1):\n",
    "        print(\"ineuron\",end=' ')\n",
    "    print(\"\\n\")"
   ]
  },
  {
   "cell_type": "raw",
   "id": "137a82f8",
   "metadata": {},
   "source": [
    "q2 print\n",
    "        ineuron\n",
    "    ineuron ineuron\n",
    "ineuron ineuron ineuron\n",
    "    ineuron ineuron\n",
    "        ineuron"
   ]
  },
  {
   "cell_type": "code",
   "execution_count": 101,
   "id": "68e5174e",
   "metadata": {},
   "outputs": [
    {
     "name": "stdout",
     "output_type": "stream",
     "text": [
      "          * \n",
      "\n",
      "        * * * \n",
      "\n",
      "      * * * * * \n",
      "\n",
      "    * * * * * * * \n",
      "\n",
      "  * * * * * * * * * \n",
      "\n",
      "    * * * * * * * \n",
      "\n",
      "      * * * * * \n",
      "\n",
      "        * * * \n",
      "\n",
      "          * \n",
      "\n"
     ]
    }
   ],
   "source": [
    "# diamond pattern\n",
    "n = 5\n",
    "for i in range(n-1):\n",
    "    for j in range(i,n):\n",
    "        print(' ',end=' ')\n",
    "    for j in range(0,i+1):\n",
    "        print('*',end=' ')\n",
    "    for j in range(0,i):\n",
    "        print('*',end=' ')\n",
    "    print('\\n')\n",
    "for i in range(n):\n",
    "    for j in range(0,i+1):\n",
    "        print(' ',end=' ')\n",
    "    for j in range(i,n):\n",
    "        print('*',end=' ')\n",
    "    for j in range(i,n-1):\n",
    "        print('*',end=' ')\n",
    "    print('\\n')"
   ]
  },
  {
   "cell_type": "code",
   "execution_count": 102,
   "id": "227c0c16",
   "metadata": {},
   "outputs": [
    {
     "name": "stdout",
     "output_type": "stream",
     "text": [
      "         ineuron \n",
      "\n",
      "      ineuron ineuron \n",
      "\n",
      "   ineuron ineuron ineuron \n",
      "\n",
      "      ineuron ineuron \n",
      "\n",
      "         ineuron \n",
      "\n"
     ]
    }
   ],
   "source": [
    "n = 3\n",
    "for i in range(n - 1):\n",
    "    for j in range(i,n):\n",
    "        print(\"  \", end=' ')\n",
    "    for j in range(i+1):\n",
    "        print(\"ineuron\", end=' ')\n",
    "    print('\\n')\n",
    "for i in range(n):\n",
    "    for j in range(0,i+1):\n",
    "        print(\"  \", end=' ')\n",
    "    for j in range(i,n):\n",
    "        print(\"ineuron\", end=' ')\n",
    "    print('\\n')"
   ]
  },
  {
   "cell_type": "code",
   "execution_count": 103,
   "id": "ed6bbe46",
   "metadata": {},
   "outputs": [
    {
     "name": "stdout",
     "output_type": "stream",
     "text": [
      "ineuron \n",
      "\n",
      "ineuron ineuron \n",
      "\n",
      "ineuron ineuron ineuron \n",
      "\n"
     ]
    }
   ],
   "source": [
    "n = 3\n",
    "for i in range(n):\n",
    "    for j in range(0,i+1):\n",
    "        print(\"ineuron\",end=' ')\n",
    "    print(\"\\n\")"
   ]
  },
  {
   "cell_type": "code",
   "execution_count": 104,
   "id": "67a7c574",
   "metadata": {},
   "outputs": [],
   "source": [
    "l = [[1,2,3,4], (2,3,4,5,6), (3,4,5,6,7), \n",
    "          set([23,4,5,45,4,4,5,45,45,4,5]), \n",
    "          {'k1':\"sudh\",'k2':\"ineuron\",'k3':\"kumar\", 3:6, 7:8}, [\"ineuron\",\"data science\"]]"
   ]
  },
  {
   "cell_type": "raw",
   "id": "86739260",
   "metadata": {},
   "source": [
    "q3 : try to extract all the list entity"
   ]
  },
  {
   "cell_type": "code",
   "execution_count": 105,
   "id": "9c36f356",
   "metadata": {},
   "outputs": [
    {
     "name": "stdout",
     "output_type": "stream",
     "text": [
      "[1, 2, 3, 4]\n",
      "['ineuron', 'data science']\n"
     ]
    }
   ],
   "source": [
    "for i in l:\n",
    "    if type(i) == list:\n",
    "        print(i)"
   ]
  },
  {
   "cell_type": "raw",
   "id": "aff9b751",
   "metadata": {},
   "source": [
    "q4: try to extract all the dictionary entities"
   ]
  },
  {
   "cell_type": "code",
   "execution_count": 106,
   "id": "cccacb96",
   "metadata": {},
   "outputs": [
    {
     "name": "stdout",
     "output_type": "stream",
     "text": [
      "{'k1': 'sudh', 'k2': 'ineuron', 'k3': 'kumar', 3: 6, 7: 8}\n"
     ]
    }
   ],
   "source": [
    "for i in l:\n",
    "    if type(i) == dict:\n",
    "        print(i)"
   ]
  },
  {
   "cell_type": "raw",
   "id": "2ea78d8a",
   "metadata": {},
   "source": [
    "q5: try to extract all the tuples entities"
   ]
  },
  {
   "cell_type": "code",
   "execution_count": 107,
   "id": "4fc96a56",
   "metadata": {},
   "outputs": [
    {
     "name": "stdout",
     "output_type": "stream",
     "text": [
      "(2, 3, 4, 5, 6)\n",
      "(3, 4, 5, 6, 7)\n"
     ]
    }
   ],
   "source": [
    "for i in l:\n",
    "    if type(i) == tuple:\n",
    "        print(i)"
   ]
  },
  {
   "cell_type": "raw",
   "id": "abfdf929",
   "metadata": {},
   "source": [
    "q6: try to extract all the numerical data it may be a  part of dictionary key/value"
   ]
  },
  {
   "cell_type": "code",
   "execution_count": 108,
   "id": "10d404dd",
   "metadata": {},
   "outputs": [
    {
     "data": {
      "text/plain": [
       "[[1, 2, 3, 4],\n",
       " (2, 3, 4, 5, 6),\n",
       " (3, 4, 5, 6, 7),\n",
       " {4, 5, 23, 45},\n",
       " {'k1': 'sudh', 'k2': 'ineuron', 'k3': 'kumar', 3: 6, 7: 8},\n",
       " ['ineuron', 'data science']]"
      ]
     },
     "execution_count": 108,
     "metadata": {},
     "output_type": "execute_result"
    }
   ],
   "source": [
    "l"
   ]
  },
  {
   "cell_type": "code",
   "execution_count": 109,
   "id": "0a80d2c8",
   "metadata": {},
   "outputs": [
    {
     "name": "stdout",
     "output_type": "stream",
     "text": [
      "1 2 3 4 2 3 4 5 6 3 4 5 6 7 45 4 5 23 3\n",
      "6\n",
      "7\n",
      "8\n"
     ]
    }
   ],
   "source": [
    "for i in l:\n",
    "    if type(i) == list or type(i) == tuple or type(i) == set:\n",
    "        for j in i:\n",
    "            if type(j) == int:\n",
    "                print(j, end=' ')\n",
    "    if type(i) == dict:\n",
    "        for k,v in i.items():\n",
    "            if type(k) == int or type(v) == int:\n",
    "                print(k)\n",
    "                print(v)"
   ]
  },
  {
   "cell_type": "raw",
   "id": "542e2159",
   "metadata": {},
   "source": [
    "q7: try to give summation of all the numeric data"
   ]
  },
  {
   "cell_type": "code",
   "execution_count": 110,
   "id": "10d77f0b",
   "metadata": {},
   "outputs": [
    {
     "name": "stdout",
     "output_type": "stream",
     "text": [
      "All list of the numbers in list: \n",
      " [1, 2, 3, 4, 2, 3, 4, 5, 6, 3, 4, 5, 6, 7, 45, 4, 5, 23, 3, 6, 7, 8]\n",
      "summation of all the numbers:  156\n"
     ]
    }
   ],
   "source": [
    "num = []\n",
    "for i in l:\n",
    "    if type(i) == list or type(i) == tuple or type(i) == set:\n",
    "        for j in i:\n",
    "            if type(j) == int:\n",
    "                num.append(j)\n",
    "    if type(i) == dict:\n",
    "        for k,v in i.items():\n",
    "            if type(k) == int or type(v) == int:\n",
    "                num.append(k)\n",
    "                num.append(v)\n",
    "print(\"All list of the numbers in list: \\n\", num)\n",
    "print(\"summation of all the numbers: \",sum(num))"
   ]
  },
  {
   "cell_type": "raw",
   "id": "8b1f7fff",
   "metadata": {},
   "source": [
    "q8: try to filter out all the odd values out of all numeric data given which is part of list"
   ]
  },
  {
   "cell_type": "code",
   "execution_count": 111,
   "id": "b348bf22",
   "metadata": {
    "scrolled": true
   },
   "outputs": [
    {
     "name": "stdout",
     "output_type": "stream",
     "text": [
      "Odd values from list:  [1, 3]\n"
     ]
    }
   ],
   "source": [
    "odd = []\n",
    "for i in l:\n",
    "    if type(i) == list:\n",
    "        for j in i:\n",
    "            if type(j) == int:\n",
    "                if j %2 == 1:\n",
    "                    odd.append(j)\n",
    "print(\"Odd values from list: \", odd)"
   ]
  },
  {
   "cell_type": "raw",
   "id": "85a1e9a0",
   "metadata": {},
   "source": [
    "q9: try to extract \"ineuron\" out of data"
   ]
  },
  {
   "cell_type": "code",
   "execution_count": 112,
   "id": "134e928a",
   "metadata": {},
   "outputs": [
    {
     "name": "stdout",
     "output_type": "stream",
     "text": [
      "{'k1': 'sudh', 'k2': 'ineuron', 'k3': 'kumar', 3: 6, 7: 8} : ineuron\n",
      "['ineuron', 'data science'] : ineuron\n"
     ]
    }
   ],
   "source": [
    "for i in l:\n",
    "    if type(i) == list or type(i) == tuple or type(i) == set:\n",
    "        for j in i:\n",
    "            if j == 'ineuron':\n",
    "                print(i, \":\" ,j)\n",
    "    if type(i) == dict:\n",
    "        for k,v in i.items():\n",
    "            if k == 'ineuron':\n",
    "                print(i, \":\" , k)\n",
    "            elif v == 'ineuron':\n",
    "                print(i, \":\" ,v)"
   ]
  },
  {
   "cell_type": "raw",
   "id": "c12d8938",
   "metadata": {},
   "source": [
    "q10: try to find out number of occurences of all the data"
   ]
  },
  {
   "cell_type": "code",
   "execution_count": 113,
   "id": "b57735d8",
   "metadata": {},
   "outputs": [],
   "source": [
    "unique = set()\n",
    "\n",
    "for i in l:\n",
    "    if type(i) == list or type(i) == tuple or type(i) == set:\n",
    "        for j in i:\n",
    "            unique.add(j)\n",
    "    if type(i) == dict:\n",
    "        for k,v in i.items():\n",
    "            unique.add(k)\n",
    "            unique.add(v)"
   ]
  },
  {
   "cell_type": "code",
   "execution_count": 114,
   "id": "036bfb39",
   "metadata": {},
   "outputs": [
    {
     "data": {
      "text/plain": [
       "{1,\n",
       " 2,\n",
       " 23,\n",
       " 3,\n",
       " 4,\n",
       " 45,\n",
       " 5,\n",
       " 6,\n",
       " 7,\n",
       " 8,\n",
       " 'data science',\n",
       " 'ineuron',\n",
       " 'k1',\n",
       " 'k2',\n",
       " 'k3',\n",
       " 'kumar',\n",
       " 'sudh'}"
      ]
     },
     "execution_count": 114,
     "metadata": {},
     "output_type": "execute_result"
    }
   ],
   "source": [
    "unique"
   ]
  },
  {
   "cell_type": "code",
   "execution_count": 115,
   "id": "e43cf343",
   "metadata": {},
   "outputs": [
    {
     "data": {
      "text/plain": [
       "[[1, 2, 3, 4],\n",
       " (2, 3, 4, 5, 6),\n",
       " (3, 4, 5, 6, 7),\n",
       " {4, 5, 23, 45},\n",
       " {'k1': 'sudh', 'k2': 'ineuron', 'k3': 'kumar', 3: 6, 7: 8},\n",
       " ['ineuron', 'data science']]"
      ]
     },
     "execution_count": 115,
     "metadata": {},
     "output_type": "execute_result"
    }
   ],
   "source": [
    "l"
   ]
  },
  {
   "cell_type": "raw",
   "id": "4ca49e6b",
   "metadata": {},
   "source": [
    "q11: try to find out number of keys in dict elements"
   ]
  },
  {
   "cell_type": "code",
   "execution_count": 118,
   "id": "5086519f",
   "metadata": {},
   "outputs": [
    {
     "name": "stdout",
     "output_type": "stream",
     "text": [
      "['k1', 'k2', 'k3', 3, 7]\n",
      "5\n"
     ]
    }
   ],
   "source": [
    "keys = []\n",
    "for i in l:\n",
    "    if type(i) == dict:\n",
    "        for j in i:\n",
    "            keys.append(j)\n",
    "print(keys)\n",
    "print(len(keys))"
   ]
  },
  {
   "cell_type": "raw",
   "id": "af1691d4",
   "metadata": {},
   "source": [
    "q12: try to filter out all the string data"
   ]
  },
  {
   "cell_type": "code",
   "execution_count": 120,
   "id": "9d35503f",
   "metadata": {},
   "outputs": [
    {
     "data": {
      "text/plain": [
       "[[1, 2, 3, 4],\n",
       " (2, 3, 4, 5, 6),\n",
       " (3, 4, 5, 6, 7),\n",
       " {4, 5, 23, 45},\n",
       " {'k1': 'sudh', 'k2': 'ineuron', 'k3': 'kumar', 3: 6, 7: 8},\n",
       " ['ineuron', 'data science']]"
      ]
     },
     "execution_count": 120,
     "metadata": {},
     "output_type": "execute_result"
    }
   ],
   "source": [
    "l"
   ]
  },
  {
   "cell_type": "code",
   "execution_count": 134,
   "id": "2ef31f0b",
   "metadata": {},
   "outputs": [
    {
     "name": "stdout",
     "output_type": "stream",
     "text": [
      "['k1', 'sudh', 'k2', 'ineuron', 'k3', 'kumar', 'ineuron', 'data science']\n"
     ]
    }
   ],
   "source": [
    "string = []\n",
    "for i in l:\n",
    "    if type(i) == list or type(i) == tuple or type(i) == set:\n",
    "        for j in i :\n",
    "            if type(j) == str :\n",
    "                string.append(j)\n",
    "    if type(i) == dict:\n",
    "        for k,v in i.items():\n",
    "            if type(k) == str or type(v) == str:\n",
    "                string.append(k)\n",
    "                string.append(v)\n",
    "print(string)"
   ]
  },
  {
   "cell_type": "raw",
   "id": "98da627f",
   "metadata": {},
   "source": [
    "q13: try to find out alpha numeric in data"
   ]
  },
  {
   "cell_type": "code",
   "execution_count": 123,
   "id": "010c583b",
   "metadata": {},
   "outputs": [
    {
     "data": {
      "text/plain": [
       "[[1, 2, 3, 4],\n",
       " (2, 3, 4, 5, 6),\n",
       " (3, 4, 5, 6, 7),\n",
       " {4, 5, 23, 45},\n",
       " {'k1': 'sudh', 'k2': 'ineuron', 'k3': 'kumar', 3: 6, 7: 8},\n",
       " ['ineuron', 'data science']]"
      ]
     },
     "execution_count": 123,
     "metadata": {},
     "output_type": "execute_result"
    }
   ],
   "source": [
    "l"
   ]
  },
  {
   "cell_type": "code",
   "execution_count": 160,
   "id": "60ca519f",
   "metadata": {
    "scrolled": true
   },
   "outputs": [
    {
     "name": "stdout",
     "output_type": "stream",
     "text": [
      "k1 sudh\n",
      "k2 ineuron\n",
      "k3 kumar\n"
     ]
    },
    {
     "ename": "TypeError",
     "evalue": "'in <string>' requires string as left operand, not type",
     "output_type": "error",
     "traceback": [
      "\u001b[1;31m---------------------------------------------------------------------------\u001b[0m",
      "\u001b[1;31mTypeError\u001b[0m                                 Traceback (most recent call last)",
      "\u001b[1;32m~\\AppData\\Local\\Temp/ipykernel_13656/3188233299.py\u001b[0m in \u001b[0;36m<module>\u001b[1;34m\u001b[0m\n\u001b[0;32m      4\u001b[0m         \u001b[1;32mfor\u001b[0m \u001b[0mj\u001b[0m \u001b[1;32min\u001b[0m \u001b[0mi\u001b[0m \u001b[1;33m:\u001b[0m\u001b[1;33m\u001b[0m\u001b[1;33m\u001b[0m\u001b[0m\n\u001b[0;32m      5\u001b[0m             \u001b[1;32mif\u001b[0m \u001b[0mtype\u001b[0m\u001b[1;33m(\u001b[0m\u001b[0mj\u001b[0m\u001b[1;33m)\u001b[0m \u001b[1;33m==\u001b[0m \u001b[0mstr\u001b[0m\u001b[1;33m:\u001b[0m\u001b[1;33m\u001b[0m\u001b[1;33m\u001b[0m\u001b[0m\n\u001b[1;32m----> 6\u001b[1;33m                 \u001b[1;32mif\u001b[0m \u001b[0mint\u001b[0m \u001b[1;32min\u001b[0m \u001b[0mj\u001b[0m\u001b[1;33m:\u001b[0m\u001b[1;33m\u001b[0m\u001b[1;33m\u001b[0m\u001b[0m\n\u001b[0m\u001b[0;32m      7\u001b[0m                     \u001b[0malnum\u001b[0m\u001b[1;33m.\u001b[0m\u001b[0mappend\u001b[0m\u001b[1;33m(\u001b[0m\u001b[0mj\u001b[0m\u001b[1;33m)\u001b[0m\u001b[1;33m\u001b[0m\u001b[1;33m\u001b[0m\u001b[0m\n\u001b[0;32m      8\u001b[0m     \u001b[1;32mif\u001b[0m \u001b[0mtype\u001b[0m\u001b[1;33m(\u001b[0m\u001b[0mi\u001b[0m\u001b[1;33m)\u001b[0m \u001b[1;33m==\u001b[0m \u001b[0mdict\u001b[0m\u001b[1;33m:\u001b[0m\u001b[1;33m\u001b[0m\u001b[1;33m\u001b[0m\u001b[0m\n",
      "\u001b[1;31mTypeError\u001b[0m: 'in <string>' requires string as left operand, not type"
     ]
    }
   ],
   "source": [
    "alnum = []\n",
    "for i in l:\n",
    "    if type(i) == list or type(i) == tuple or type(i) == set:\n",
    "        for j in i :\n",
    "            if type(j) == str:\n",
    "                if int in j:\n",
    "                    alnum.append(j)\n",
    "    if type(i) == dict:\n",
    "        for k,v in i.items():\n",
    "            if type(k) == str:\n",
    "                print(k,v)\n",
    "                if k.isalpha() and k.isnumeric() :\n",
    "                    alnum.append(k)\n",
    "            if type(v) == str:\n",
    "                if v.isalpha() and v.isnumeric() :    \n",
    "                        alnum.append(v)\n",
    "print(alnum)"
   ]
  },
  {
   "cell_type": "code",
   "execution_count": 159,
   "id": "c0f1f0f3",
   "metadata": {},
   "outputs": [
    {
     "data": {
      "text/plain": [
       "False"
      ]
     },
     "execution_count": 159,
     "metadata": {},
     "output_type": "execute_result"
    }
   ],
   "source": [
    "'k1'.isnumeric()"
   ]
  },
  {
   "cell_type": "raw",
   "id": "a33e4571",
   "metadata": {},
   "source": [
    "q14: try to find out multiplication of all numerical values in the individual collections inside dataset"
   ]
  },
  {
   "cell_type": "code",
   "execution_count": 164,
   "id": "9a2e6746",
   "metadata": {},
   "outputs": [
    {
     "name": "stdout",
     "output_type": "stream",
     "text": [
      "All numeric values in list: \n",
      " [1, 2, 3, 4, 2, 3, 4, 5, 6, 3, 4, 5, 6, 7, 45, 4, 5, 23, 3, 6, 7, 8]\n",
      "8\n"
     ]
    },
    {
     "data": {
      "text/plain": [
       "[1, 2, 3, 4, 2, 3, 4, 5, 6, 3, 4, 5, 6, 7, 45, 4, 5, 23, 3, 6, 7, 8]"
      ]
     },
     "execution_count": 164,
     "metadata": {},
     "output_type": "execute_result"
    }
   ],
   "source": [
    "multiplication = []\n",
    "for i in l:\n",
    "    if type(i) == list or type(i) == tuple or type(i) == set:\n",
    "        for j in i :\n",
    "            if type(j) == int :\n",
    "                multiplication.append(j)\n",
    "                \n",
    "    if type(i) == dict:\n",
    "        for k , v in i.items() :\n",
    "            if type(k) == int :\n",
    "                multiplication.append(k)\n",
    "            if type(v) == int  :    \n",
    "                multiplication.append(v)\n",
    "print('All numeric values in list: \\n',multiplication)\n"
   ]
  },
  {
   "cell_type": "raw",
   "id": "262e70ad",
   "metadata": {},
   "source": [
    "q15: try to unqrape all the collection inside collection and create a flatten list"
   ]
  },
  {
   "cell_type": "code",
   "execution_count": 146,
   "id": "f57013f5",
   "metadata": {},
   "outputs": [
    {
     "name": "stdout",
     "output_type": "stream",
     "text": [
      "[1, 2, 3, 4, 2, 3, 4, 5, 6, 3, 4, 5, 6, 7, 45, 4, 5, 23, 'k1', 'sudh', 'k2', 'ineuron', 'k3', 'kumar', 3, 6, 7, 8, 'ineuron', 'data science']\n"
     ]
    }
   ],
   "source": [
    "flatlist = []\n",
    "for i in l:\n",
    "    if type(i) == list or type(i) == tuple or type(i) == set:\n",
    "        for j in i :\n",
    "             flatlist.append(j)\n",
    "    if type(i) == dict:\n",
    "        for k,v in i.items():\n",
    "            flatlist.append(k) \n",
    "            flatlist.append(v)\n",
    "print(flatlist)"
   ]
  },
  {
   "cell_type": "code",
   "execution_count": null,
   "id": "4aba4dcd",
   "metadata": {},
   "outputs": [],
   "source": []
  }
 ],
 "metadata": {
  "kernelspec": {
   "display_name": "Python 3 (ipykernel)",
   "language": "python",
   "name": "python3"
  },
  "language_info": {
   "codemirror_mode": {
    "name": "ipython",
    "version": 3
   },
   "file_extension": ".py",
   "mimetype": "text/x-python",
   "name": "python",
   "nbconvert_exporter": "python",
   "pygments_lexer": "ipython3",
   "version": "3.9.7"
  }
 },
 "nbformat": 4,
 "nbformat_minor": 5
}
